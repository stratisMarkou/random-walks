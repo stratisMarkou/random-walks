{
 "cells": [
  {
   "cell_type": "markdown",
   "metadata": {},
   "source": [
    "# Operations that preserve convexity\n",
    "\n",
    "## Vector composition\n",
    "\n",
    "## Maximisation\n",
    "\n",
    "## Minimisation\n",
    "\n",
    "## Perspective\n",
    "\n",
    "# The conjugate function\n",
    "\n",
    "**Conjuugate function:** The conjugate function of $f$ is defined as $$\\DeclareMathOperator*{\\sup}{sup}f^*(y) = \\sup_{x \\in \\textbf{dom} f}\\left(y^\\top x - f(x)\\right),$$ and is convex for any $f$."
   ]
  },
  {
   "cell_type": "code",
   "execution_count": null,
   "metadata": {},
   "outputs": [],
   "source": []
  },
  {
   "cell_type": "code",
   "execution_count": null,
   "metadata": {},
   "outputs": [],
   "source": []
  }
 ],
 "metadata": {
  "kernelspec": {
   "display_name": "venv-random-walks",
   "language": "python",
   "name": "venv-random-walks"
  },
  "language_info": {
   "codemirror_mode": {
    "name": "ipython",
    "version": 3
   },
   "file_extension": ".py",
   "mimetype": "text/x-python",
   "name": "python",
   "nbconvert_exporter": "python",
   "pygments_lexer": "ipython3",
   "version": "3.7.3"
  }
 },
 "nbformat": 4,
 "nbformat_minor": 4
}
