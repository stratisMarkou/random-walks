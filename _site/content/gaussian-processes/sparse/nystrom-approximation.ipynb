{
 "cells": [
  {
   "cell_type": "markdown",
   "metadata": {},
   "source": [
    "# The Nystrom approximation\n",
    "\n",
    "The Nystrom approximation applied to kernel machines, such as GPs and SVMs, is a method for approximating the kernel matrix and reducing their computational cost.\n",
    "\n",
    "$\n",
    " \\newcommand{\\bs}[1]{\\boldsymbol{#1}}\n",
    " \\newcommand{\\bm}[1]{\\mathbf{#1}}\n",
    "$\n",
    "\n",
    "1. Definition of eigenfunctions $\\phi$: $$\\lambda_i\\phi_i(\\bm{z}) = \\int k(\\bm{z}, \\bm{x})\\phi_i(\\bm{x})p(\\bm{x}) d\\bm{x}.$$\n",
    "2. Monte Carlo approximation of the integral: $$ \\lambda_i\\phi_i(\\bm{z}) \\approx \\frac{1}{N}\\sum_{n = 1}^N k(\\bm{z}, \\bm{x}_n)\\phi_i(\\bm{x}_n),~~\\bm{x}_n \\sim p(\\bm{x}). $$\n",
    "3. Motivates the eigenproblem. Match MC to eigenproblem, $\\lambda$ and $\\phi$ in terms of eigensolutions $\\lambda^{(N)}$ and $u^{(N)}$.\n",
    "4. Consider lower-rank approximation of sum, get another solution $\\tilde{\\lambda}^{(M)}$ and $\\tilde{u}^{(M)}$ as in (3), say that the solutions are approximately equal, get one in terms of the other.\n",
    "5. Compute kernel matrix to get everything in terms of $k$."
   ]
  },
  {
   "cell_type": "code",
   "execution_count": null,
   "metadata": {},
   "outputs": [],
   "source": []
  }
 ],
 "metadata": {
  "kernelspec": {
   "display_name": "venv-random-walks",
   "language": "python",
   "name": "venv-random-walks"
  },
  "language_info": {
   "codemirror_mode": {
    "name": "ipython",
    "version": 3
   },
   "file_extension": ".py",
   "mimetype": "text/x-python",
   "name": "python",
   "nbconvert_exporter": "python",
   "pygments_lexer": "ipython3",
   "version": "3.7.3"
  }
 },
 "nbformat": 4,
 "nbformat_minor": 4
}
