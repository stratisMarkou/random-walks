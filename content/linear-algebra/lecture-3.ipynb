{
 "cells": [
  {
   "cell_type": "markdown",
   "metadata": {},
   "source": [
    "# Orthonormal Matrices\n",
    "\n",
    "- $Q^\\top Q = I$\n",
    "- Householder matrices: $I - 2uu^\\top$\n",
    "- Hadamard matrices: \\begin{align} H_2 = \\begin{pmatrix}\n",
    "1 & \\phantom{-}1 \\\\\n",
    "1 & -1\n",
    "\\end{pmatrix},~ H_4 = \\begin{pmatrix}\n",
    "H_2 & \\phantom{-}H_2 \\\\\n",
    "H_2 & -H_2\n",
    "\\end{pmatrix} \\end{align}\n",
    "- Haar wavelets\n",
    "- Wavelets\n",
    "- Discrete Fourier Transform (DFT)\n",
    "\n"
   ]
  },
  {
   "cell_type": "code",
   "execution_count": null,
   "metadata": {},
   "outputs": [],
   "source": []
  }
 ],
 "metadata": {
  "kernelspec": {
   "display_name": "venv-random-walks",
   "language": "python",
   "name": "venv-random-walks"
  },
  "language_info": {
   "codemirror_mode": {
    "name": "ipython",
    "version": 3
   },
   "file_extension": ".py",
   "mimetype": "text/x-python",
   "name": "python",
   "nbconvert_exporter": "python",
   "pygments_lexer": "ipython3",
   "version": "3.7.3"
  }
 },
 "nbformat": 4,
 "nbformat_minor": 4
}
