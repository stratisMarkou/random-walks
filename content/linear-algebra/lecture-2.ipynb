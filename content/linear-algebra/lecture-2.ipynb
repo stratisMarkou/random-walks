{
 "cells": [
  {
   "cell_type": "markdown",
   "metadata": {},
   "source": [
    "# Multiplying and Factoring Matrices\n",
    "\n",
    "\n",
    "## Five matrix factorisations\n",
    "Five matrix factorisations:\n",
    "\n",
    "- $A = LU$ by elimination\n",
    "- $A = QR$ by Gramm-Schmitt\n",
    "- $S = Q \\Lambda Q^\\top$ by eigenproblem of a symmetric matrix\n",
    "- $A = X \\Lambda X^{-1}$ diagonalisation of $A$ by the eigenvector matrix $X$\n",
    "- $A = U \\Sigma V^\\top$ singular value decomposition (SVD)"
   ]
  },
  {
   "cell_type": "markdown",
   "metadata": {},
   "source": [
    "## LU factorisation by elimination\n",
    "\n",
    "- A recipe for $A = LU$ factorisation in square matrices.\n",
    "    - Subtract the first row from each other row enough times so that the first entry of the other rows is 0. Repeat using the second row, subtracting it from the third row onwards in the same way. Continue until the last row is reached. The resulting matrix is $U$ - upper-triangular. $L$ contains ones along its diagonal and the number of times each row was subtracted from each other row, in the appropriate position, so that $LU = A$.\n",
    "    - A complication arises when the leading term of a row being subtracted is $0$. In that case, we can swap that row with another one that we haven't worked with yet and continue as normal. If no other row with a non-zero leading term can be found, then it can be shown that $A$ has a zero eigenvalue, i.e. it is singular.\n",
    "    \n",
    "- $LU$ elimination can be viewed as peeling off a part of the matrix at each elimination step."
   ]
  },
  {
   "cell_type": "markdown",
   "metadata": {},
   "source": [
    "## Four fundamental subspaces\n",
    "\n",
    "If an $n \\times m$ matrix $A$ has rank $r$, then:\n",
    "\n",
    "1. $C(A) = C(A^\\top) = r$.\n",
    "2. $N(A) = m - r$, $C(A)$ and $N(A^\\top)$ are orthogonal.\n",
    "3. $N(A^\\top) = n - r$, $C(A^\\top)$ and $N(A)$ are orthogonal."
   ]
  },
  {
   "cell_type": "code",
   "execution_count": null,
   "metadata": {},
   "outputs": [],
   "source": []
  }
 ],
 "metadata": {
  "kernelspec": {
   "display_name": "venv-random-walks",
   "language": "python",
   "name": "venv-random-walks"
  },
  "language_info": {
   "codemirror_mode": {
    "name": "ipython",
    "version": 3
   },
   "file_extension": ".py",
   "mimetype": "text/x-python",
   "name": "python",
   "nbconvert_exporter": "python",
   "pygments_lexer": "ipython3",
   "version": "3.7.3"
  }
 },
 "nbformat": 4,
 "nbformat_minor": 4
}
