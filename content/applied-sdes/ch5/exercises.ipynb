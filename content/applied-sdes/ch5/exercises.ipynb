{
 "cells": [
  {
   "cell_type": "code",
   "execution_count": 1,
   "metadata": {},
   "outputs": [],
   "source": [
    "import numpy as np\n",
    "from scipy.special import gamma\n",
    "import matplotlib.pyplot as plt"
   ]
  },
  {
   "cell_type": "markdown",
   "metadata": {},
   "source": [
    "# Exercise 5.6"
   ]
  },
  {
   "cell_type": "code",
   "execution_count": 2,
   "metadata": {},
   "outputs": [],
   "source": [
    "def parallel_euler_maruyama(seed, num_paths, X0, T, N, f, g):\n",
    "    \n",
    "    # Set the random seed\n",
    "    np.random.seed(seed)\n",
    "    \n",
    "    # Time increment\n",
    "    dt = T / N\n",
    "    \n",
    "    # Set initial X values\n",
    "    X = X0\n",
    "    \n",
    "    # Times at which to evaluate the integral\n",
    "    t = np.linspace(0, T, N + 1)\n",
    "    \n",
    "    # Wiener process samples\n",
    "    dW = dt ** 0.5 * np.random.normal(size=(num_paths, N))\n",
    "    \n",
    "    for i in range(N):\n",
    "        \n",
    "        # Calculate new X according to EM rule\n",
    "        X[:, i+1] = X[:, i] + f(X[:, i], t[i]) * dt + g(X[:, i], t[i]) * dW[:, i]\n",
    "        \n",
    "    W = np.concatenate([np.zeros(shape=(num_paths, 1)), np.cumsum(dW, axis=1)], axis=1)\n",
    "    \n",
    "    return t, X, W\n",
    "\n",
    "def parallel_milstein(seed, num_paths, X0, T, N, f, g):\n",
    "    \n",
    "    # Set the random seed\n",
    "    np.random.seed(seed)\n",
    "    \n",
    "    # Time increment\n",
    "    dt = T / N\n",
    "    \n",
    "    # Set initial X values\n",
    "    X = X0 * np.ones(shape=(num_paths, N + 1))\n",
    "    \n",
    "    # Times at which to evaluate the integral\n",
    "    t = np.linspace(0, T, N + 1)\n",
    "    \n",
    "    # Wiener process samples\n",
    "    dW = dt ** 0.5 * np.random.normal(size=(num_paths, N))\n",
    "    \n",
    "    for i in range(N):\n",
    "        \n",
    "        # Compute the EM term and the higher order correction term\n",
    "        dX = f(X[:, i], t[i]) * dt + g(X[:, i], t[i]) * dW[:, i]\n",
    "        dX = dX + 0.5 * g(X[:, i], t[i]) * g(X[:, i], t[i], grad=True) * (dW[:, i] ** 2 - dt)\n",
    "        \n",
    "        X[:, i+1] = X[:, i] + dX\n",
    "        \n",
    "    W = np.concatenate([np.zeros(shape=(num_paths, 1)), np.cumsum(dW, axis=1)], axis=1)\n",
    "    \n",
    "    return t, X, W"
   ]
  },
  {
   "cell_type": "code",
   "execution_count": 3,
   "metadata": {},
   "outputs": [],
   "source": [
    "def f_g_gamma(a, b):\n",
    "    \n",
    "    def f(X, t):\n",
    "        return -0.5 * ((1 - a) / X + b) # - X ** (1 - a) * np.exp(b * X) / 100\n",
    "    \n",
    "    def g(X, t, grad=False):\n",
    "        \n",
    "#         g = X ** ((1 - a) / 2) * np.exp(b * X / 2)\n",
    "        \n",
    "#         g_grad = X ** (- (1 + a) / 2) * ((1 - a) / 2) * np.exp(b * X / 2) + b / 2 * X ** ((1 - a) / 2) * np.exp(b * X / 2)\n",
    "        \n",
    "#         return g_grad if grad else g\n",
    "\n",
    "        return 0 if grad else 1\n",
    "    \n",
    "    return f, g\n",
    "\n",
    "def pdf_gamma(x, a, b):\n",
    "    \n",
    "    return b ** a / gamma(a) * x ** (a - 1) * np.exp(-b * x)"
   ]
  },
  {
   "cell_type": "code",
   "execution_count": 12,
   "metadata": {},
   "outputs": [],
   "source": [
    "np.random.seed(0)\n",
    "\n",
    "a = 3\n",
    "b = 3\n",
    "\n",
    "f, g = f_g_gamma(a, b)\n",
    "\n",
    "# Seed and integration parameters\n",
    "seed = 0\n",
    "T = 1e0\n",
    "N = 10000\n",
    "num_paths = int(1e4)\n",
    "X0 = 0.6 * np.random.uniform(size=(num_paths, N + 1)) + 0.4\n",
    "\n",
    "# Solve approximately via the EM method\n",
    "t, X, W = parallel_milstein(seed=seed, num_paths=num_paths, X0=X0, T=T, N=N, f=f, g=g)"
   ]
  },
  {
   "cell_type": "code",
   "execution_count": 13,
   "metadata": {},
   "outputs": [
    {
     "data": {
      "image/png": "[encoded data removed]",
      "text/plain": [
       "<Figure size 432x288 with 1 Axes>"
      ]
     },
     "metadata": {
      "needs_background": "light"
     },
     "output_type": "display_data"
    }
   ],
   "source": [
    "x = np.linspace(0., 5, 100)\n",
    "pdf = pdf_gamma(x, a, b)\n",
    "\n",
    "plt.hist(X[:, -1], density=True, bins=1000)\n",
    "plt.plot(x, pdf)\n",
    "plt.xlim([-5, 5])\n",
    "plt.show()"
   ]
  },
  {
   "cell_type": "code",
   "execution_count": null,
   "metadata": {},
   "outputs": [],
   "source": []
  }
 ],
 "metadata": {
  "kernelspec": {
   "display_name": "venv-random-walks",
   "language": "python",
   "name": "venv-random-walks"
  },
  "language_info": {
   "codemirror_mode": {
    "name": "ipython",
    "version": 3
   },
   "file_extension": ".py",
   "mimetype": "text/x-python",
   "name": "python",
   "nbconvert_exporter": "python",
   "pygments_lexer": "ipython3",
   "version": "3.7.3"
  }
 },
 "nbformat": 4,
 "nbformat_minor": 4
}
