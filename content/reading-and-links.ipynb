{
 "cells": [
  {
   "cell_type": "markdown",
   "metadata": {},
   "source": [
    "# Interesting sites and reading\n",
    "\n",
    "- Tom Minka's [Statistical Learning and Pattern Recognition Glossary](http://alumni.media.mit.edu/~tpminka/statlearn/glossary/).\n",
    "- David Mackay's [FAQ on Bayesian methods for neural networks](http://www.inference.org.uk/mackay/Bayes_FAQ.html#MAP).\n",
    "- Roger Grosse's [Metacademy](https://metacademy.org/) - a dependency graph for knowledge."
   ]
  }
 ],
 "metadata": {
  "kernelspec": {
   "display_name": "venv-random-walks",
   "language": "python",
   "name": "venv-random-walks"
  },
  "language_info": {
   "codemirror_mode": {
    "name": "ipython",
    "version": 3
   },
   "file_extension": ".py",
   "mimetype": "text/x-python",
   "name": "python",
   "nbconvert_exporter": "python",
   "pygments_lexer": "ipython3",
   "version": "3.7.3"
  }
 },
 "nbformat": 4,
 "nbformat_minor": 4
}
