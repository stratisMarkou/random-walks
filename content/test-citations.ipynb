{
 "cells": [
  {
   "cell_type": "markdown",
   "metadata": {},
   "source": [
    "as <cite data-cite=\"6220273/TQTWYR88\"></cite> said, "
   ]
  },
  {
   "cell_type": "markdown",
   "metadata": {},
   "source": [
    "# Reference\n",
    "\n",
    "<div class=\"cite2c-biblio\"></div>"
   ]
  },
  {
   "cell_type": "code",
   "execution_count": 1,
   "metadata": {},
   "outputs": [],
   "source": [
    "# !nbtb clean -g citations,cite2c test-citations.ipynb --inplace"
   ]
  },
  {
   "cell_type": "code",
   "execution_count": null,
   "metadata": {},
   "outputs": [],
   "source": []
  }
 ],
 "metadata": {
  "cite2c": {
   "citations": {
    "6220273/F7YL6EHH": {
     "accessed": {
      "date-parts": [
       [
        2019,
        5,
        14
       ]
      ]
     },
     "author": [
      {
       "family": "Girard",
       "given": "Agathe"
      },
      {
       "family": "Rasmussen",
       "given": "Carl Edward"
      },
      {
       "family": "Candela",
       "given": "Joaquin Quiñonero"
      },
      {
       "family": "Murray-Smith",
       "given": "Roderick"
      }
     ],
     "issued": {
      "date-parts": [
       [
        2003
       ]
      ]
     },
     "title": "Gaussian Process Priors with Uncertain Inputs Application to Multiple-Step Ahead Time Series Forecasting",
     "type": "chapter"
    },
    "6220273/TQTWYR88": {
     "URL": "http://arxiv.org/abs/1810.03958",
     "abstract": "Bayesian neural networks (BNNs) hold great promise as a flexible and principled solution to deal with uncertainty when learning from finite data. Among approaches to realize probabilistic inference in deep neural networks, variational Bayes (VB) is theoretically grounded, generally applicable, and computationally efficient. With wide recognition of potential advantages, why is it that variational Bayes has seen very limited practical use for BNNs in real applications? We argue that variational inference in neural networks is fragile: successful implementations require careful initialization and tuning of prior variances, as well as controlling the variance of Monte Carlo gradient estimates. We fix VB and turn it into a robust inference tool for Bayesian neural networks. We achieve this with two innovations: first, we introduce a novel deterministic method to approximate moments in neural networks, eliminating gradient variance; second, we introduce a hierarchical prior for parameters and a novel empirical Bayes procedure for automatically selecting prior variances. Combining these two innovations, the resulting method is highly efficient and robust. On the application of heteroscedastic regression we demonstrate strong predictive performance over alternative approaches.",
     "accessed": {
      "day": 5,
      "month": 2,
      "year": 2019
     },
     "author": [
      {
       "family": "Wu",
       "given": "Anqi"
      },
      {
       "family": "Nowozin",
       "given": "Sebastian"
      },
      {
       "family": "Meeds",
       "given": "Edward"
      },
      {
       "family": "Turner",
       "given": "Richard E."
      },
      {
       "family": "Hernández-Lobato",
       "given": "José Miguel"
      },
      {
       "family": "Gaunt",
       "given": "Alexander L."
      }
     ],
     "container-title": "arXiv:1810.03958 [cs, stat]",
     "id": "6220273/TQTWYR88",
     "issued": {
      "day": 9,
      "month": 10,
      "year": 2018
     },
     "note": "arXiv: 1810.03958",
     "shortTitle": "Fixing Variational Bayes",
     "title": "Fixing Variational Bayes: Deterministic Variational Inference for Bayesian Neural Networks",
     "title-short": "Fixing Variational Bayes",
     "type": "article-journal"
    }
   }
  },
  "kernelspec": {
   "display_name": "Python 3",
   "language": "python",
   "name": "python3"
  },
  "language_info": {
   "codemirror_mode": {
    "name": "ipython",
    "version": 3
   },
   "file_extension": ".py",
   "mimetype": "text/x-python",
   "name": "python",
   "nbconvert_exporter": "python",
   "pygments_lexer": "ipython3",
   "version": "3.7.3"
  }
 },
 "nbformat": 4,
 "nbformat_minor": 4
}
