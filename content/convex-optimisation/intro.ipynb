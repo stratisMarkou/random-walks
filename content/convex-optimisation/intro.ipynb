{
 "cells": [
  {
   "cell_type": "markdown",
   "metadata": {},
   "source": [
    "# Convex optimisation\n",
    "\n",
    "These are notes and implementations I made off the course [Convex Optimization I](https://see.stanford.edu/Course/EE364A), taught by [Stephen Boyd](http://web.stanford.edu/~boyd/) from Stanford. You can find the full course materials at the [official course page](https://see.stanford.edu/Course/EE364A). Video lectures can also be found at [videolectures.net](http://videolectures.net/stanfordee364aw08_convex_optimization1/). The course follows the [Convex Optimisation book](https://web.stanford.edu/~boyd/cvxbook/) by Boyd and Vanderberghe, freely available on the web.\n",
    "\n",
    "A lot of the contents of these notes are a combination of the contents of the lectures and book, except I've filled in some gaps I would have liked to have been explained to me when I read the course."
   ]
  }
 ],
 "metadata": {
  "kernelspec": {
   "display_name": "venv-random-walks",
   "language": "python",
   "name": "venv-random-walks"
  },
  "language_info": {
   "codemirror_mode": {
    "name": "ipython",
    "version": 3
   },
   "file_extension": ".py",
   "mimetype": "text/x-python",
   "name": "python",
   "nbconvert_exporter": "python",
   "pygments_lexer": "ipython3",
   "version": "3.7.3"
  }
 },
 "nbformat": 4,
 "nbformat_minor": 4
}
