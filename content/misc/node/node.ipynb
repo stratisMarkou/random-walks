{
 "cells": [
  {
   "cell_type": "code",
   "execution_count": 1,
   "metadata": {},
   "outputs": [],
   "source": [
    "import numpy as np\n",
    "from scipy.integrate import ode as ODE\n",
    "from matplotlib import pyplot as plt\n",
    "\n",
    "import tensorflow as tf\n",
    "import tensorflow.keras as tfk\n",
    "import tensorflow_probability as tfp\n",
    "\n",
    "tfd = tfp.distributions"
   ]
  },
  {
   "cell_type": "code",
   "execution_count": 75,
   "metadata": {},
   "outputs": [],
   "source": [
    "class TransitionDynamics:\n",
    "    \n",
    "    def __init__(self, hidden_size, state_size):\n",
    "        \n",
    "        self.W1 = np.random.normal(size=(hidden_size, state_size), loc=0, scale=state_size**-0.5)\n",
    "        self.b1 = np.random.normal(size=(hidden_size,))\n",
    "        \n",
    "        self.W2 = np.random.normal(size=(state_size, hidden_size), loc=0, scale=hidden_size**-0.5)\n",
    "        self.b2 = np.random.normal(size=(state_size,))\n",
    "        \n",
    "    \n",
    "    def __call__(self, t, x):\n",
    "        \n",
    "        assert len(x.shape) == 1\n",
    "        \n",
    "        x = np.dot(self.W1, x)\n",
    "        x = x + self.b1\n",
    "        \n",
    "        x = np.tanh(x)\n",
    "        \n",
    "        x = np.dot(self.W2, x)\n",
    "        x = x + self.b2\n",
    "        \n",
    "        return x"
   ]
  },
  {
   "cell_type": "code",
   "execution_count": 76,
   "metadata": {},
   "outputs": [
    {
     "data": {
      "text/plain": [
       "array([0.41020533, 1.78223644])"
      ]
     },
     "execution_count": 76,
     "metadata": {},
     "output_type": "execute_result"
    }
   ],
   "source": [
    "np.random.seed(0)\n",
    "\n",
    "transition_dynamics = TransitionDynamics(hidden_size=3, state_size=2)\n",
    "\n",
    "x = np.zeros(shape=(2,))\n",
    "\n",
    "transition_dynamics(None, x)"
   ]
  },
  {
   "cell_type": "code",
   "execution_count": 77,
   "metadata": {},
   "outputs": [
    {
     "data": {
      "text/plain": [
       "array([0.2111968, 1.8093717])"
      ]
     },
     "execution_count": 77,
     "metadata": {},
     "output_type": "execute_result"
    }
   ],
   "source": [
    "np.random.seed(0)\n",
    "\n",
    "transition_dynamics = TransitionDynamics(hidden_size=3, state_size=2)\n",
    "\n",
    "y0 = np.array([0., 0.])\n",
    "t0 = 0.\n",
    "t1 = 1.\n",
    "\n",
    "ode = ODE(f=transition_dynamics.__call__).set_integrator('vode')\n",
    "ode = ode.set_initial_value(y0, t0)\n",
    "\n",
    "ode.integrate(t1)"
   ]
  },
  {
   "cell_type": "code",
   "execution_count": 79,
   "metadata": {},
   "outputs": [
    {
     "name": "stderr",
     "output_type": "stream",
     "text": [
      "/Users/stratis/repos/random-walks/venv-random-walks/lib/python3.7/site-packages/scipy/integrate/_ode.py:1009: UserWarning: vode: Illegal input detected. (See printed message.)\n",
      "  self.messages.get(istate, unexpected_istate_msg)))\n",
      "/Users/stratis/repos/random-walks/venv-random-walks/lib/python3.7/site-packages/scipy/integrate/_ode.py:1009: UserWarning: vode: Illegal input detected. (See printed message.)\n",
      "  self.messages.get(istate, unexpected_istate_msg)))\n",
      "/Users/stratis/repos/random-walks/venv-random-walks/lib/python3.7/site-packages/scipy/integrate/_ode.py:1009: UserWarning: vode: Illegal input detected. (See printed message.)\n",
      "  self.messages.get(istate, unexpected_istate_msg)))\n",
      "/Users/stratis/repos/random-walks/venv-random-walks/lib/python3.7/site-packages/scipy/integrate/_ode.py:1009: UserWarning: vode: Illegal input detected. (See printed message.)\n",
      "  self.messages.get(istate, unexpected_istate_msg)))\n",
      "/Users/stratis/repos/random-walks/venv-random-walks/lib/python3.7/site-packages/scipy/integrate/_ode.py:1009: UserWarning: vode: Illegal input detected. (See printed message.)\n",
      "  self.messages.get(istate, unexpected_istate_msg)))\n",
      "/Users/stratis/repos/random-walks/venv-random-walks/lib/python3.7/site-packages/scipy/integrate/_ode.py:1009: UserWarning: vode: Illegal input detected. (See printed message.)\n",
      "  self.messages.get(istate, unexpected_istate_msg)))\n",
      "/Users/stratis/repos/random-walks/venv-random-walks/lib/python3.7/site-packages/scipy/integrate/_ode.py:1009: UserWarning: vode: Illegal input detected. (See printed message.)\n",
      "  self.messages.get(istate, unexpected_istate_msg)))\n",
      "/Users/stratis/repos/random-walks/venv-random-walks/lib/python3.7/site-packages/scipy/integrate/_ode.py:1009: UserWarning: vode: Illegal input detected. (See printed message.)\n",
      "  self.messages.get(istate, unexpected_istate_msg)))\n",
      "/Users/stratis/repos/random-walks/venv-random-walks/lib/python3.7/site-packages/scipy/integrate/_ode.py:1009: UserWarning: vode: Illegal input detected. (See printed message.)\n",
      "  self.messages.get(istate, unexpected_istate_msg)))\n"
     ]
    },
    {
     "data": {
      "image/png": "[encoded data removed]",
      "text/plain": [
       "<Figure size 720x720 with 9 Axes>"
      ]
     },
     "metadata": {
      "needs_background": "light"
     },
     "output_type": "display_data"
    }
   ],
   "source": [
    "t0 = 0.\n",
    "t1 = 10.\n",
    "num_seeds = 100\n",
    "dt = t1 / 50\n",
    "\n",
    "plt.figure(figsize=(10, 10))\n",
    "\n",
    "for i in range(9):\n",
    "\n",
    "    transition_dynamics = TransitionDynamics(hidden_size=3, state_size=2)\n",
    "\n",
    "    times = []\n",
    "    states = []\n",
    "\n",
    "    for seed in range(num_seeds):\n",
    "\n",
    "        times.append([])\n",
    "        states.append([])\n",
    "\n",
    "        y0 = 4 * (np.random.rand(2) - 0.5)\n",
    "\n",
    "        ode = ODE(f=transition_dynamics.__call__).set_integrator('vode')\n",
    "        ode = ode.set_initial_value(y0, t0)\n",
    "\n",
    "        while ode.successful() and ode.t < t1:\n",
    "\n",
    "            times[-1].append(ode.t + dt)\n",
    "            states[-1].append(ode.integrate(ode.t + dt))\n",
    "\n",
    "    times = np.array(times)\n",
    "    states = np.array(states)\n",
    "\n",
    "    plt.subplot(3, 3, i + 1)\n",
    "\n",
    "    # Plot trajectories\n",
    "    for seed in range(num_seeds):\n",
    "        plt.plot(states[seed, :, 0], states[seed, :, 1], color='blue', alpha=0.5)\n",
    "    \n",
    "    plt.axis('off')\n",
    "    plt.xlim([-2, 2])\n",
    "    plt.ylim([-2, 2])\n",
    "    \n",
    "plt.show()"
   ]
  },
  {
   "cell_type": "code",
   "execution_count": 68,
   "metadata": {},
   "outputs": [],
   "source": [
    "class NODEModel(tfk.Model):\n",
    "    \n",
    "    def __init__(self, hidden_size, state_size, name='transition-dynamics', dtype=tf.float64, **kwargs):\n",
    "        \n",
    "        super().__init__(self, name=name, dtype=dtype, **kwargs)\n",
    "        \n",
    "        self.state_size = state_size\n",
    "        \n",
    "        self.W1 = tf.random.normal(shape=(hidden_size, state_size),\n",
    "                                   mean=0.,\n",
    "                                   stddev=state_size**-0.5,\n",
    "                                   dtype=dtype)\n",
    "        self.W1 = tf.Variable(self.W1)\n",
    "        \n",
    "        self.b1 = tf.random.normal(shape=(hidden_size,),\n",
    "                                   mean=0.,\n",
    "                                   stddev=1.,\n",
    "                                   dtype=dtype)\n",
    "        self.b1 = tf.Variable(self.b1)\n",
    "        \n",
    "        self.W2 = tf.random.normal(shape=(state_size, hidden_size),\n",
    "                                   mean=0,\n",
    "                                   stddev=hidden_size**-0.5,\n",
    "                                   dtype=dtype)\n",
    "        self.W2 = tf.Variable(self.W2)\n",
    "        \n",
    "        self.b2 = tf.random.normal(shape=(state_size,),\n",
    "                                   mean=0.,\n",
    "                                   stddev=1.,\n",
    "                                   dtype=dtype)\n",
    "        self.b2 = tf.Variable(self.b2)\n",
    "        \n",
    "        self.log_noise = tf.convert_to_tensor(np.array(-1.), dtype=dtype)\n",
    "        self.log_noise = tf.Variable(self.log_noise)\n",
    "        \n",
    "    \n",
    "    def __call__(self, t, x):\n",
    "        \n",
    "        assert len(x.shape) == 1\n",
    "        \n",
    "        x = tf.tensordot(self.W1, x, axes=(1, 0))\n",
    "        x = x + self.b1\n",
    "        \n",
    "        x = tf.tanh(x)\n",
    "        \n",
    "        x = tf.tensordot(self.W2, x, axes=(1, 0))\n",
    "        x = x + self.b2\n",
    "        \n",
    "        return x\n",
    "    \n",
    "    \n",
    "    def df_dx(self, t, x):\n",
    "        \n",
    "        with tf.GradientTape() as tape:\n",
    "            \n",
    "            tape.watch(x)\n",
    "            \n",
    "            f = self.__call__(t, x)\n",
    "            \n",
    "        df_dx = tape.gradient(f, x)\n",
    "        \n",
    "        return df_dx\n",
    "    \n",
    "    \n",
    "    def df_dtheta(self, t, x):\n",
    "        \n",
    "        with tf.GradientTape() as tape:\n",
    "            \n",
    "            tape.watch(self.variables)\n",
    "            \n",
    "            f = self.__call__(t, x)\n",
    "            \n",
    "        df_dtheta = tape.gradient(f, self.variables)\n",
    "        \n",
    "        return df_dtheta\n",
    "    \n",
    "    \n",
    "    def loglik(self, x_pred, x_data):\n",
    "        \"\"\"\n",
    "        params x_pred : tf.tensor, predicted state (shape [batch_size, state_size])\n",
    "        params x_data : tf.tensor, data state (shape [batch_size, state_size])\n",
    "        \"\"\"\n",
    "        \n",
    "        assert x_pred.shape == x_data.shape\n",
    "        assert x_pred.shape[-1] == self.state_size\n",
    "        \n",
    "        dist = tfd.MultivariateNormalDiag(loc=tf.convert_to_tensor(x_pred, dtype=tf.float32),\n",
    "                                          scale_identity_multiplier=tf.exp(self.log_noise))\n",
    "        \n",
    "        loglik = dist.log_prob(x_data)\n",
    "        loglik = tf.reduce_sum(loglik)\n",
    "        \n",
    "        return loglik\n",
    "    \n",
    "    \n",
    "    def dL_dx(self, x_pred, x_data):\n",
    "        \n",
    "        with tf.GradientTape() as tape:\n",
    "            \n",
    "            tape.watch(x_pred)\n",
    "            \n",
    "            L = - self.loglik(x_pred=x_pred, x_data=x_data)\n",
    "            \n",
    "        dL_dx = tape.gradient(L, x_pred)\n",
    "        \n",
    "        return dL_dx"
   ]
  },
  {
   "cell_type": "code",
   "execution_count": 69,
   "metadata": {},
   "outputs": [
    {
     "data": {
      "image/png": "[encoded data removed]",
      "text/plain": [
       "<Figure size 720x720 with 9 Axes>"
      ]
     },
     "metadata": {
      "needs_background": "light"
     },
     "output_type": "display_data"
    }
   ],
   "source": [
    "dtype = tf.float32\n",
    "\n",
    "t0 = 0.\n",
    "t1 = 10.\n",
    "num_seeds = 10\n",
    "dt = t1 / 50\n",
    "\n",
    "plt.figure(figsize=(10, 10))\n",
    "\n",
    "for i in range(9):\n",
    "\n",
    "    node_model = NODEModel(hidden_size=3, state_size=2, dtype=dtype)\n",
    "\n",
    "    times = []\n",
    "    states = []\n",
    "\n",
    "    for seed in range(num_seeds):\n",
    "\n",
    "        times.append([])\n",
    "        states.append([])\n",
    "\n",
    "        y0 = 4 * (np.random.rand(2) - 0.5)\n",
    "        \n",
    "        def f(t, x):\n",
    "            \n",
    "            x = tf.convert_to_tensor(x, dtype=dtype)\n",
    "            \n",
    "            z = node_model(t=t, x=x)\n",
    "            z = z.numpy()\n",
    "            \n",
    "            return z\n",
    "            \n",
    "        ode = ODE(f=f).set_integrator('vode')\n",
    "        ode = ode.set_initial_value(y0, t0)\n",
    "\n",
    "        while ode.successful() and ode.t < t1:\n",
    "\n",
    "            times[-1].append(ode.t + dt)\n",
    "            states[-1].append(ode.integrate(ode.t + dt))\n",
    "\n",
    "    times = np.array(times)\n",
    "    states = np.array(states)\n",
    "\n",
    "    plt.subplot(3, 3, i + 1)\n",
    "\n",
    "    # Plot trajectories\n",
    "    for seed in range(num_seeds):\n",
    "        plt.plot(states[seed, :, 0], states[seed, :, 1], color='blue', alpha=0.5)\n",
    "    \n",
    "    plt.axis('off')\n",
    "    plt.xlim([-2, 2])\n",
    "    plt.ylim([-2, 2])\n",
    "    \n",
    "plt.show()"
   ]
  },
  {
   "cell_type": "code",
   "execution_count": 70,
   "metadata": {},
   "outputs": [
    {
     "data": {
      "text/plain": [
       "<tf.Tensor: shape=(2,), dtype=float32, numpy=array([0.3024133 , 0.10968729], dtype=float32)>"
      ]
     },
     "execution_count": 70,
     "metadata": {},
     "output_type": "execute_result"
    }
   ],
   "source": [
    "x = tf.random.normal(shape=(2,), mean=0., stddev=1., dtype=tf.float32)\n",
    "\n",
    "node_model.df_dx(t=None, x=x)"
   ]
  },
  {
   "cell_type": "code",
   "execution_count": 71,
   "metadata": {},
   "outputs": [
    {
     "data": {
      "text/plain": [
       "[<tf.Tensor: shape=(3, 2), dtype=float32, numpy=\n",
       " array([[ 0.18246157,  0.10949817],\n",
       "        [-0.12920731, -0.07753941],\n",
       "        [ 0.05073825,  0.03044885]], dtype=float32)>,\n",
       " <tf.Tensor: shape=(3,), dtype=float32, numpy=array([ 0.18828529, -0.13333128,  0.05235768], dtype=float32)>,\n",
       " <tf.Tensor: shape=(2, 3), dtype=float32, numpy=\n",
       " array([[0.7109098, 0.6820052, 0.9677044],\n",
       "        [0.7109098, 0.6820052, 0.9677044]], dtype=float32)>,\n",
       " <tf.Tensor: shape=(2,), dtype=float32, numpy=array([1., 1.], dtype=float32)>,\n",
       " None]"
      ]
     },
     "execution_count": 71,
     "metadata": {},
     "output_type": "execute_result"
    }
   ],
   "source": [
    "x = tf.random.normal(shape=(2,), mean=0., stddev=1., dtype=tf.float32)\n",
    "\n",
    "node_model.df_dtheta(t=None, x=x)"
   ]
  },
  {
   "cell_type": "code",
   "execution_count": 72,
   "metadata": {},
   "outputs": [
    {
     "data": {
      "text/plain": [
       "<tf.Tensor: shape=(10,), dtype=float32, numpy=\n",
       "array([-0.9189385, -0.9189385, -0.9189385, -0.9189385, -0.9189385,\n",
       "       -0.9189385, -0.9189385, -0.9189385, -0.9189385, -0.9189385],\n",
       "      dtype=float32)>"
      ]
     },
     "execution_count": 72,
     "metadata": {},
     "output_type": "execute_result"
    }
   ],
   "source": [
    "dist = tfd.MultivariateNormalDiag(loc=tf.zeros(shape=(10, 1), dtype=tf.float32), scale_identity_multiplier=1.)\n",
    "dist.log_prob(tf.zeros(shape=(10, 1), dtype=tf.float32))"
   ]
  },
  {
   "cell_type": "code",
   "execution_count": 73,
   "metadata": {},
   "outputs": [
    {
     "data": {
      "text/plain": [
       "<tfp.distributions.MultivariateNormalDiag 'MultivariateNormalDiag' batch_shape=[10] event_shape=[1] dtype=float32>"
      ]
     },
     "execution_count": 73,
     "metadata": {},
     "output_type": "execute_result"
    }
   ],
   "source": [
    "dist"
   ]
  },
  {
   "cell_type": "code",
   "execution_count": 74,
   "metadata": {},
   "outputs": [
    {
     "data": {
      "text/plain": [
       "-1.8378770664093453"
      ]
     },
     "execution_count": 74,
     "metadata": {},
     "output_type": "execute_result"
    }
   ],
   "source": [
    "2 * np.log((2 * np.pi) ** -0.5)"
   ]
  },
  {
   "cell_type": "code",
   "execution_count": 75,
   "metadata": {},
   "outputs": [
    {
     "data": {
      "text/plain": [
       "<tf.Tensor: shape=(), dtype=float32, numpy=0.8106148>"
      ]
     },
     "execution_count": 75,
     "metadata": {},
     "output_type": "execute_result"
    }
   ],
   "source": [
    "node_model.loglik(x_pred=tf.zeros((5, 2)),\n",
    "                  x_data=tf.zeros((5, 2)))"
   ]
  },
  {
   "cell_type": "code",
   "execution_count": 86,
   "metadata": {},
   "outputs": [
    {
     "data": {
      "text/plain": [
       "<tf.Tensor: shape=(1, 2), dtype=float32, numpy=array([[7.3890557, 7.3890557]], dtype=float32)>"
      ]
     },
     "execution_count": 86,
     "metadata": {},
     "output_type": "execute_result"
    }
   ],
   "source": [
    "node_model.dL_dx(x_pred=tf.ones((1, 2)),\n",
    "                 x_data=tf.zeros((1, 2)))"
   ]
  },
  {
   "cell_type": "code",
   "execution_count": 87,
   "metadata": {},
   "outputs": [
    {
     "data": {
      "text/plain": [
       "7.38905609893065"
      ]
     },
     "execution_count": 87,
     "metadata": {},
     "output_type": "execute_result"
    }
   ],
   "source": [
    "1 * np.exp(2)"
   ]
  },
  {
   "cell_type": "code",
   "execution_count": null,
   "metadata": {},
   "outputs": [],
   "source": []
  }
 ],
 "metadata": {
  "kernelspec": {
   "display_name": "venv-random-walks",
   "language": "python",
   "name": "venv-random-walks"
  },
  "language_info": {
   "codemirror_mode": {
    "name": "ipython",
    "version": 3
   },
   "file_extension": ".py",
   "mimetype": "text/x-python",
   "name": "python",
   "nbconvert_exporter": "python",
   "pygments_lexer": "ipython3",
   "version": "3.7.3"
  }
 },
 "nbformat": 4,
 "nbformat_minor": 4
}
