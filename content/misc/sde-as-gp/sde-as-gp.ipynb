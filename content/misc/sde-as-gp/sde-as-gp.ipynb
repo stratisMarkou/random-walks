{
 "cells": [
  {
   "cell_type": "code",
   "execution_count": 164,
   "metadata": {},
   "outputs": [
    {
     "name": "stdout",
     "output_type": "stream",
     "text": [
      "(5, 5) 5\n"
     ]
    },
    {
     "data": {
      "image/png": "[encoded data removed]",
      "text/plain": [
       "<Figure size 432x288 with 1 Axes>"
      ]
     },
     "metadata": {
      "needs_background": "light"
     },
     "output_type": "display_data"
    }
   ],
   "source": [
    "import numpy as np\n",
    "from matplotlib import pyplot as plt\n",
    "\n",
    "def ou_cov(sigma, gamma, t, t_):\n",
    "    \n",
    "    coeff = 0.5 * sigma ** 2 / gamma\n",
    "    exp = np.exp(- gamma * np.abs(t[..., :, None] - t_[..., None, :]))\n",
    "    \n",
    "    return coeff * exp\n",
    "\n",
    "t0 = 0.\n",
    "t1 = 10.\n",
    "\n",
    "sigma = 1.\n",
    "gamma = 2.\n",
    "r = 1e-1\n",
    "\n",
    "num_train_pts = 5\n",
    "grid_size = 10000\n",
    "interval_size = int(grid_size / (num_train_pts + 1) - 1e-6)\n",
    "\n",
    "np.random.seed(1)\n",
    "\n",
    "t_grid = np.linspace(t0, t1, grid_size)\n",
    "t_train = t_grid[::interval_size][1:-1]\n",
    "\n",
    "x_mean = np.zeros((num_train_pts,))\n",
    "x_cov = ou_cov(sigma=sigma, gamma=gamma, t=t_train, t_=t_train)\n",
    "print(x_cov.shape, num_train_pts)\n",
    "x_cov = x_cov + r ** 2 * np.eye(num_train_pts)\n",
    "\n",
    "x_train = np.random.multivariate_normal(mean=x_mean, cov=x_cov)\n",
    "\n",
    "plt.scatter(t_train, x_train, marker='x', color='red', zorder=2)\n",
    "plt.show()"
   ]
  },
  {
   "cell_type": "code",
   "execution_count": 165,
   "metadata": {},
   "outputs": [],
   "source": [
    "def forward(t_grid, m0, S0, b, A, Sigma, dt):\n",
    "    \n",
    "    grid_size = t_grid.shape[0]\n",
    "\n",
    "    m = m0 * np.ones((grid_size, 1))\n",
    "    S = S0 * np.ones((grid_size, 1, 1))\n",
    "    \n",
    "    for i in range(len(b) - 1):\n",
    "        \n",
    "        m[i + 1] = m[i] - (np.dot(A[i], m[i]) - b[i]) * dt\n",
    "        S[i + 1] = S[i] - (np.dot(A[i], S[i]) + np.dot(S[i], A[i].T) - Sigma) * dt\n",
    "        \n",
    "    return m, S\n",
    "\n",
    "\n",
    "def backward(t_grid, b, A, m, S, Sigma, gamma, r, psi, lamda, t_dict, x, dt):\n",
    "    \n",
    "    b_ = np.zeros_like(b)\n",
    "    A_ = np.zeros_like(A)\n",
    "    \n",
    "#     print(psi[:, 0, 0])\n",
    "\n",
    "    for i in range(len(b) - 1, 0, -1):\n",
    "        \n",
    "#         print(psi[:, 0, 0])\n",
    "        \n",
    "        coeff = (A[i] - gamma) ** 2 / Sigma\n",
    "        dEds2 = 0.5 * coeff\n",
    "        dEdm = coeff * m[i] - b[i] * (A[i] - gamma) / Sigma\n",
    "        \n",
    "        lamda[i - 1] = lamda[i] - (np.dot(A[i].T, lamda[i]) - dEdm) * dt\n",
    "        psi[i - 1] = psi[i] - (2 * np.dot(psi[i], A[i]) - dEds2) * dt\n",
    "        \n",
    "        if t_grid[i - 1] in t_dict:\n",
    "            psi[i - 1] = psi[i - 1] + 0.5 * r ** -2\n",
    "            lamda[i - 1] = lamda[i - 1] - r ** -2 * (x[t_dict[t_grid[i - 1]]] - m[i - 1])\n",
    "            \n",
    "    for i in range(len(b) - 1, -1, -1):\n",
    "        A_[i] = gamma + 2 * np.dot(Sigma, psi[i])\n",
    "        b_[i] = - gamma * m[i] + np.dot(A_[i], m[i]) - np.dot(Sigma, lamda[i])\n",
    "        \n",
    "#     print(psi[:, 0, 0])\n",
    "        \n",
    "    return psi, lamda, b_, A_\n",
    "\n",
    "\n",
    "def smoothing(t_train, t_grid, x_train, num_passes, omega, Sigma, gamma, r, dt):\n",
    "    \n",
    "    grid_size = t_grid.shape[0]\n",
    "    \n",
    "    # Dictionary mapping from times to indices for array x\n",
    "    t_dict = dict(zip(t_train, np.arange(0, len(t_train))))\n",
    "    \n",
    "    b = np.zeros((grid_size, 1))\n",
    "    A = np.zeros((grid_size, 1, 1))\n",
    "\n",
    "    m = x_train[0] * np.ones((grid_size, 1))\n",
    "    S = np.ones((grid_size, 1, 1))\n",
    "    \n",
    "    psi = None\n",
    "    lamda = None\n",
    "    \n",
    "    for i in range(num_passes):\n",
    "\n",
    "        lamda = np.zeros((grid_size, 1))\n",
    "        psi = np.zeros((grid_size, 1, 1))\n",
    "        \n",
    "        # Forward pass to compute m, S\n",
    "        m, S = forward(t_grid=t_grid, m0=0., S0=1e-1, b=b, A=A, Sigma=Sigma, dt=dt)\n",
    "        \n",
    "        # Backward pass to compute psi, lamda, b_, A_\n",
    "        psi, lamda, b_, A_ = backward(t_grid=t_grid,\n",
    "                                      b=b,\n",
    "                                      A=A,\n",
    "                                      m=m,\n",
    "                                      S=S,\n",
    "                                      Sigma=Sigma,\n",
    "                                      gamma=gamma,\n",
    "                                      r=r,\n",
    "                                      psi=psi,\n",
    "                                      lamda=lamda,\n",
    "                                      t_dict=t_dict,\n",
    "                                      x=x_train,\n",
    "                                      dt=dt)\n",
    "        \n",
    "        b = b + omega * (b_ - b)\n",
    "        A = A + omega * (A_ - A)\n",
    "\n",
    "    return b, A, m, S, psi, lamda"
   ]
  },
  {
   "cell_type": "code",
   "execution_count": 166,
   "metadata": {},
   "outputs": [],
   "source": [
    "num_passes = 20\n",
    "Sigma = sigma ** 2 * np.eye(1)\n",
    "omega = 5e-1\n",
    "\n",
    "dt = (t1 - t0) / grid_size\n",
    "\n",
    "b, A, m, S, psi, lamda = smoothing(t_train=t_train,\n",
    "                                   t_grid=t_grid,\n",
    "                                   x_train=x_train,\n",
    "                                   num_passes=num_passes,\n",
    "                                   omega=omega,\n",
    "                                   Sigma=Sigma,\n",
    "                                   gamma=gamma,\n",
    "                                   r=r,\n",
    "                                   dt=dt)"
   ]
  },
  {
   "cell_type": "code",
   "execution_count": 167,
   "metadata": {},
   "outputs": [
    {
     "data": {
      "image/png": "[encoded data removed]",
      "text/plain": [
       "<Figure size 432x288 with 1 Axes>"
      ]
     },
     "metadata": {
      "needs_background": "light"
     },
     "output_type": "display_data"
    }
   ],
   "source": [
    "plt.plot(t_grid, m[:, 0], color='k')\n",
    "plt.fill_between(t_grid,\n",
    "                 m[:, 0] - S[:, 0, 0] ** 0.5,\n",
    "                 m[:, 0] + S[:, 0, 0] ** 0.5,\n",
    "                 color='gray',\n",
    "                 alpha=0.5)\n",
    "plt.scatter(t_train, x_train)\n",
    "plt.ylim([-2, 2])\n",
    "plt.show()"
   ]
  },
  {
   "cell_type": "code",
   "execution_count": null,
   "metadata": {},
   "outputs": [],
   "source": []
  }
 ],
 "metadata": {
  "kernelspec": {
   "display_name": "venv-random-walks",
   "language": "python",
   "name": "venv-random-walks"
  },
  "language_info": {
   "codemirror_mode": {
    "name": "ipython",
    "version": 3
   },
   "file_extension": ".py",
   "mimetype": "text/x-python",
   "name": "python",
   "nbconvert_exporter": "python",
   "pygments_lexer": "ipython3",
   "version": "3.7.3"
  }
 },
 "nbformat": 4,
 "nbformat_minor": 4
}
