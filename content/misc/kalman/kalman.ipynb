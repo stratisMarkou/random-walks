{
 "cells": [
  {
   "cell_type": "markdown",
   "metadata": {},
   "source": [
    "# The Kalman filter\n",
    "\n",
    "\\begin{align}\n",
    "\\mathbf{x}_{t + 1} &= \\mathbf{A}\\mathbf{x}_t + \\mathbf{w}_t, && \\text{ where } \\mathbf{w}_t \\sim \\mathcal{N}(\\mathbf{0}, \\mathbf{Q}), \\\\\n",
    "      \\mathbf{y}_t &= \\mathbf{C}\\mathbf{x}_t + \\mathbf{v}_t, && \\text{ where } \\mathbf{v}_t \\sim \\mathcal{N}(\\mathbf{0}, \\mathbf{R}).\n",
    "\\end{align}\n",
    "\n",
    "\\begin{align}\n",
    "\\mathbf{m}_t^t &= \\mathbf{m}_t^{t - 1} + \\mathbf{K}_t (\\mathbf{y}_t - \\mathbf{C}\\mathbf{m}_t^{t - 1})\\\\\n",
    "\\mathbf{V}_t^t &= \\mathbf{V}_t^{t - 1} - \\mathbf{K}_t \\mathbf{C} \\mathbf{V}_t^{t - 1}\\\\\n",
    "\\mathbf{K}_t &= \\mathbf{V}_t^{t - 1} \\mathbf{C}^\\top (\\mathbf{R} + \\mathbf{C}\\mathbf{V}_t^{t - 1}\\mathbf{C}^\\top)^\\top\n",
    "\\end{align}"
   ]
  },
  {
   "cell_type": "code",
   "execution_count": 1,
   "metadata": {},
   "outputs": [],
   "source": [
    "import numpy as np\n",
    "from matplotlib import pyplot as plt"
   ]
  },
  {
   "cell_type": "code",
   "execution_count": 143,
   "metadata": {},
   "outputs": [],
   "source": [
    "def sample_trajectory(m0, S0, A, Q, C, R, num_points):\n",
    "    \n",
    "    x = np.random.multivariate_normal(mean=m0, cov=S0)\n",
    "    y_mean = np.dot(C, x)\n",
    "    y = np.random.multivariate_normal(mean=y_mean, cov=R)\n",
    "    \n",
    "    xs = np.array([x])\n",
    "    y_means = np.array([y_mean])\n",
    "    ys = np.array([y])\n",
    "    \n",
    "    for i in range(num_points - 1):\n",
    "        \n",
    "        x = np.random.multivariate_normal(mean=np.dot(A, x), cov=Q)\n",
    "        y_mean = np.dot(C, x)\n",
    "        y = np.random.multivariate_normal(mean=y_mean, cov=R)\n",
    "        \n",
    "        xs = np.concatenate([xs[:], x[None, :]], axis=0)\n",
    "        y_means = np.concatenate([y_means[:], y_mean[None, :]], axis=0)\n",
    "        ys = np.concatenate([ys[:], y[None, :]], axis=0)\n",
    "    \n",
    "    return xs, y_means, ys"
   ]
  },
  {
   "cell_type": "code",
   "execution_count": 182,
   "metadata": {},
   "outputs": [
    {
     "data": {
      "text/plain": [
       "<matplotlib.collections.PathCollection at 0x125a1cdd8>"
      ]
     },
     "execution_count": 182,
     "metadata": {},
     "output_type": "execute_result"
    },
    {
     "data": {
      "image/png": "[encoded data removed]",
      "text/plain": [
       "<Figure size 432x288 with 1 Axes>"
      ]
     },
     "metadata": {
      "needs_background": "light"
     },
     "output_type": "display_data"
    }
   ],
   "source": [
    "x_dim = 10\n",
    "y_dim = 1\n",
    "\n",
    "m0 = np.zeros(x_dim,)\n",
    "S0 = 0.1 * np.eye(x_dim)\n",
    "\n",
    "np.random.seed(0)\n",
    "\n",
    "A = (2 * np.random.rand(x_dim, x_dim) - 1) / x_dim\n",
    "Q = 0.1 ** 2 * np.eye(x_dim)\n",
    "\n",
    "C = 2 * np.random.rand(y_dim, x_dim) - 1\n",
    "R = 0.05 ** 2 * np.eye(y_dim)\n",
    "\n",
    "num_points = 50\n",
    "\n",
    "xs, y_means_true, ys = sample_trajectory(m0=m0, S0=S0, A=A, Q=Q, C=C, R=R, num_points=num_points)\n",
    "\n",
    "plt.plot(np.arange(num_points), y_means_true[:, 0])\n",
    "plt.scatter(np.arange(num_points), ys[:, 0])"
   ]
  },
  {
   "cell_type": "markdown",
   "metadata": {},
   "source": [
    "\\begin{align}\n",
    "\\mathbf{x}_{t + 1} &= \\mathbf{A}\\mathbf{x}_t + \\mathbf{w}_t, && \\text{ where } \\mathbf{w}_t \\sim \\mathcal{N}(\\mathbf{0}, \\mathbf{Q}), \\\\\n",
    "      \\mathbf{y}_t &= \\mathbf{C}\\mathbf{x}_t + \\mathbf{v}_t, && \\text{ where } \\mathbf{v}_t \\sim \\mathcal{N}(\\mathbf{0}, \\mathbf{R}).\n",
    "\\end{align}\n",
    "\n",
    "\\begin{align}\n",
    "\\mathbf{m}_t^t &= \\mathbf{m}_t^{t - 1} + \\mathbf{K}_t (\\mathbf{y}_t - \\mathbf{C}\\mathbf{m}_t^{t - 1})\\\\\n",
    "\\mathbf{V}_t^t &= \\mathbf{V}_t^{t - 1} - \\mathbf{K}_t \\mathbf{C} \\mathbf{V}_t^{t - 1}\\\\\n",
    "\\mathbf{K}_t &= \\mathbf{V}_t^{t - 1} \\mathbf{C}^\\top (\\mathbf{R} + \\mathbf{C}\\mathbf{V}_t^{t - 1}\\mathbf{C}^\\top)^\\top\n",
    "\\end{align}"
   ]
  },
  {
   "cell_type": "code",
   "execution_count": 189,
   "metadata": {},
   "outputs": [],
   "source": [
    "def forward(ys, m0, S0, A, Q, C, R):\n",
    "    \n",
    "    m_t_1_t = m0\n",
    "    V_t_1_t = S0\n",
    "\n",
    "    ms = []\n",
    "    Vs = []\n",
    "    y_means = []\n",
    "    y_vars = []\n",
    "    \n",
    "    for t in range(num_points):\n",
    "        \n",
    "        y_diff = ys[t] - np.dot(C, m_t_1_t)\n",
    "        m_t_t = m_t_1_t + kalman_dot(array=y_diff, V_t_1_t=V_t_1_t, C=C, R=R)\n",
    "        \n",
    "        KC = kalman_dot(array=C, V_t_1_t=V_t_1_t, C=C, R=R)\n",
    "        V_t_t = V_t_1_t - np.dot(KC, V_t_1_t)\n",
    "        \n",
    "        ms.append(m_t_t)\n",
    "        Vs.append(V_t_t)\n",
    "        y_means.append(np.dot(C, m_t_t))\n",
    "        y_vars.append(np.dot(A, np.dot(V_t_t, A.T) + V_t_t))\n",
    "    \n",
    "        m_t_1_t = np.dot(A, m_t_t)\n",
    "        V_t_1_t = np.dot(A, np.dot(V_t_t, A.T)) + Q\n",
    "        \n",
    "\n",
    "    ms = np.array(ms)\n",
    "    Vs = np.array(Vs)\n",
    "    y_means = np.array(y_means)\n",
    "    y_vars = np.array(y_vars)\n",
    "    \n",
    "    return ms, Vs, y_means, y_vars\n",
    "\n",
    "\n",
    "def kalman_dot(array, V_t_1_t, C, R):\n",
    "    \n",
    "    R_CVCT = R + np.dot(C, np.dot(V_t_1_t, C.T))\n",
    "    R_CVCT_inv_array = np.linalg.solve(R_CVCT, array)\n",
    "    \n",
    "    K_y = np.dot(V_t_1_t, np.dot(C, R_CVCT_inv_array))\n",
    "    \n",
    "    return K_y"
   ]
  },
  {
   "cell_type": "code",
   "execution_count": 190,
   "metadata": {},
   "outputs": [
    {
     "name": "stdout",
     "output_type": "stream",
     "text": [
      "(1,)\n"
     ]
    },
    {
     "ename": "ValueError",
     "evalue": "shapes (1,10) and (1,) not aligned: 10 (dim 1) != 1 (dim 0)",
     "output_type": "error",
     "traceback": [
      "\u001b[0;31m---------------------------------------------------------------------------\u001b[0m",
      "\u001b[0;31mValueError\u001b[0m                                Traceback (most recent call last)",
      "\u001b[0;32m<ipython-input-190-ea747c1b2de3>\u001b[0m in \u001b[0;36m<module>\u001b[0;34m\u001b[0m\n\u001b[0;32m----> 1\u001b[0;31m \u001b[0mms\u001b[0m\u001b[0;34m,\u001b[0m \u001b[0mVs\u001b[0m\u001b[0;34m,\u001b[0m \u001b[0my_means\u001b[0m\u001b[0;34m,\u001b[0m \u001b[0my_vars\u001b[0m \u001b[0;34m=\u001b[0m \u001b[0mforward\u001b[0m\u001b[0;34m(\u001b[0m\u001b[0mys\u001b[0m\u001b[0;34m=\u001b[0m\u001b[0mys\u001b[0m\u001b[0;34m,\u001b[0m \u001b[0mm0\u001b[0m\u001b[0;34m=\u001b[0m\u001b[0mm0\u001b[0m\u001b[0;34m,\u001b[0m \u001b[0mS0\u001b[0m\u001b[0;34m=\u001b[0m\u001b[0mS0\u001b[0m\u001b[0;34m,\u001b[0m \u001b[0mA\u001b[0m\u001b[0;34m=\u001b[0m\u001b[0mA\u001b[0m\u001b[0;34m,\u001b[0m \u001b[0mQ\u001b[0m\u001b[0;34m=\u001b[0m\u001b[0mQ\u001b[0m\u001b[0;34m,\u001b[0m \u001b[0mC\u001b[0m\u001b[0;34m=\u001b[0m\u001b[0mC\u001b[0m\u001b[0;34m,\u001b[0m \u001b[0mR\u001b[0m\u001b[0;34m=\u001b[0m\u001b[0mR\u001b[0m\u001b[0;34m)\u001b[0m\u001b[0;34m\u001b[0m\u001b[0;34m\u001b[0m\u001b[0m\n\u001b[0m\u001b[1;32m      2\u001b[0m \u001b[0;34m\u001b[0m\u001b[0m\n\u001b[1;32m      3\u001b[0m \u001b[0mt\u001b[0m \u001b[0;34m=\u001b[0m \u001b[0mnp\u001b[0m\u001b[0;34m.\u001b[0m\u001b[0marange\u001b[0m\u001b[0;34m(\u001b[0m\u001b[0mnum_points\u001b[0m\u001b[0;34m)\u001b[0m\u001b[0;34m\u001b[0m\u001b[0;34m\u001b[0m\u001b[0m\n\u001b[1;32m      4\u001b[0m \u001b[0;34m\u001b[0m\u001b[0m\n\u001b[1;32m      5\u001b[0m \u001b[0mplt\u001b[0m\u001b[0;34m.\u001b[0m\u001b[0mplot\u001b[0m\u001b[0;34m(\u001b[0m\u001b[0mt\u001b[0m\u001b[0;34m,\u001b[0m \u001b[0my_means_true\u001b[0m\u001b[0;34m[\u001b[0m\u001b[0;34m:\u001b[0m\u001b[0;34m,\u001b[0m \u001b[0;36m0\u001b[0m\u001b[0;34m]\u001b[0m\u001b[0;34m,\u001b[0m \u001b[0mcolor\u001b[0m\u001b[0;34m=\u001b[0m\u001b[0;34m'k'\u001b[0m\u001b[0;34m,\u001b[0m \u001b[0mzorder\u001b[0m\u001b[0;34m=\u001b[0m\u001b[0;36m2\u001b[0m\u001b[0;34m)\u001b[0m\u001b[0;34m\u001b[0m\u001b[0;34m\u001b[0m\u001b[0m\n",
      "\u001b[0;32m<ipython-input-189-5931281d463f>\u001b[0m in \u001b[0;36mforward\u001b[0;34m(ys, m0, S0, A, Q, C, R)\u001b[0m\n\u001b[1;32m     12\u001b[0m \u001b[0;34m\u001b[0m\u001b[0m\n\u001b[1;32m     13\u001b[0m         \u001b[0my_diff\u001b[0m \u001b[0;34m=\u001b[0m \u001b[0mys\u001b[0m\u001b[0;34m[\u001b[0m\u001b[0mt\u001b[0m\u001b[0;34m]\u001b[0m \u001b[0;34m-\u001b[0m \u001b[0mnp\u001b[0m\u001b[0;34m.\u001b[0m\u001b[0mdot\u001b[0m\u001b[0;34m(\u001b[0m\u001b[0mC\u001b[0m\u001b[0;34m,\u001b[0m \u001b[0mm_t_1_t\u001b[0m\u001b[0;34m)\u001b[0m\u001b[0;34m\u001b[0m\u001b[0;34m\u001b[0m\u001b[0m\n\u001b[0;32m---> 14\u001b[0;31m         \u001b[0mm_t_t\u001b[0m \u001b[0;34m=\u001b[0m \u001b[0mm_t_1_t\u001b[0m \u001b[0;34m+\u001b[0m \u001b[0mkalman_dot\u001b[0m\u001b[0;34m(\u001b[0m\u001b[0marray\u001b[0m\u001b[0;34m=\u001b[0m\u001b[0my_diff\u001b[0m\u001b[0;34m,\u001b[0m \u001b[0mV_t_1_t\u001b[0m\u001b[0;34m=\u001b[0m\u001b[0mV_t_1_t\u001b[0m\u001b[0;34m,\u001b[0m \u001b[0mC\u001b[0m\u001b[0;34m=\u001b[0m\u001b[0mC\u001b[0m\u001b[0;34m,\u001b[0m \u001b[0mR\u001b[0m\u001b[0;34m=\u001b[0m\u001b[0mR\u001b[0m\u001b[0;34m)\u001b[0m\u001b[0;34m\u001b[0m\u001b[0;34m\u001b[0m\u001b[0m\n\u001b[0m\u001b[1;32m     15\u001b[0m \u001b[0;34m\u001b[0m\u001b[0m\n\u001b[1;32m     16\u001b[0m         \u001b[0mKC\u001b[0m \u001b[0;34m=\u001b[0m \u001b[0mkalman_dot\u001b[0m\u001b[0;34m(\u001b[0m\u001b[0marray\u001b[0m\u001b[0;34m=\u001b[0m\u001b[0mC\u001b[0m\u001b[0;34m,\u001b[0m \u001b[0mV_t_1_t\u001b[0m\u001b[0;34m=\u001b[0m\u001b[0mV_t_1_t\u001b[0m\u001b[0;34m,\u001b[0m \u001b[0mC\u001b[0m\u001b[0;34m=\u001b[0m\u001b[0mC\u001b[0m\u001b[0;34m,\u001b[0m \u001b[0mR\u001b[0m\u001b[0;34m=\u001b[0m\u001b[0mR\u001b[0m\u001b[0;34m)\u001b[0m\u001b[0;34m\u001b[0m\u001b[0;34m\u001b[0m\u001b[0m\n",
      "\u001b[0;32m<ipython-input-189-5931281d463f>\u001b[0m in \u001b[0;36mkalman_dot\u001b[0;34m(array, V_t_1_t, C, R)\u001b[0m\n\u001b[1;32m     41\u001b[0m     \u001b[0mR_CVCT_inv_array\u001b[0m \u001b[0;34m=\u001b[0m \u001b[0mnp\u001b[0m\u001b[0;34m.\u001b[0m\u001b[0mlinalg\u001b[0m\u001b[0;34m.\u001b[0m\u001b[0msolve\u001b[0m\u001b[0;34m(\u001b[0m\u001b[0mR_CVCT\u001b[0m\u001b[0;34m,\u001b[0m \u001b[0marray\u001b[0m\u001b[0;34m)\u001b[0m\u001b[0;34m\u001b[0m\u001b[0;34m\u001b[0m\u001b[0m\n\u001b[1;32m     42\u001b[0m \u001b[0;34m\u001b[0m\u001b[0m\n\u001b[0;32m---> 43\u001b[0;31m     \u001b[0mK_y\u001b[0m \u001b[0;34m=\u001b[0m \u001b[0mnp\u001b[0m\u001b[0;34m.\u001b[0m\u001b[0mdot\u001b[0m\u001b[0;34m(\u001b[0m\u001b[0mV_t_1_t\u001b[0m\u001b[0;34m,\u001b[0m \u001b[0mnp\u001b[0m\u001b[0;34m.\u001b[0m\u001b[0mdot\u001b[0m\u001b[0;34m(\u001b[0m\u001b[0mC\u001b[0m\u001b[0;34m,\u001b[0m \u001b[0mR_CVCT_inv_array\u001b[0m\u001b[0;34m)\u001b[0m\u001b[0;34m)\u001b[0m\u001b[0;34m\u001b[0m\u001b[0;34m\u001b[0m\u001b[0m\n\u001b[0m\u001b[1;32m     44\u001b[0m \u001b[0;34m\u001b[0m\u001b[0m\n\u001b[1;32m     45\u001b[0m     \u001b[0;32mreturn\u001b[0m \u001b[0mK_y\u001b[0m\u001b[0;34m\u001b[0m\u001b[0;34m\u001b[0m\u001b[0m\n",
      "\u001b[0;32m<__array_function__ internals>\u001b[0m in \u001b[0;36mdot\u001b[0;34m(*args, **kwargs)\u001b[0m\n",
      "\u001b[0;31mValueError\u001b[0m: shapes (1,10) and (1,) not aligned: 10 (dim 1) != 1 (dim 0)"
     ]
    }
   ],
   "source": [
    "ms, Vs, y_means, y_vars = forward(ys=ys, m0=m0, S0=S0, A=A, Q=Q, C=C, R=R)\n",
    "\n",
    "t = np.arange(num_points)\n",
    "\n",
    "plt.plot(t, y_means_true[:, 0], color='k', zorder=2)\n",
    "plt.scatter(t, ys[:, 0], marker='x', color='red', zorder=3)\n",
    "\n",
    "plt.plot(t, y_means[:, 0], '--', color='black', zorder=2)\n",
    "plt.fill_between(t, y_means[:, 0] - y_vars[:, 0, 0] ** 0.5, y_means[:, 0] + y_vars[:, 0, 0] ** 0.5, color='gray', alpha=0.2, zorder=1)"
   ]
  },
  {
   "cell_type": "code",
   "execution_count": 188,
   "metadata": {},
   "outputs": [
    {
     "data": {
      "text/plain": [
       "(1, 10)"
      ]
     },
     "execution_count": 188,
     "metadata": {},
     "output_type": "execute_result"
    }
   ],
   "source": [
    "C.shape"
   ]
  },
  {
   "cell_type": "code",
   "execution_count": null,
   "metadata": {},
   "outputs": [],
   "source": []
  }
 ],
 "metadata": {
  "kernelspec": {
   "display_name": "venv-random-walks",
   "language": "python",
   "name": "venv-random-walks"
  },
  "language_info": {
   "codemirror_mode": {
    "name": "ipython",
    "version": 3
   },
   "file_extension": ".py",
   "mimetype": "text/x-python",
   "name": "python",
   "nbconvert_exporter": "python",
   "pygments_lexer": "ipython3",
   "version": "3.7.3"
  }
 },
 "nbformat": 4,
 "nbformat_minor": 4
}
