{
 "cells": [
  {
   "cell_type": "markdown",
   "metadata": {},
   "source": [
    "# Natural cubic splines"
   ]
  },
  {
   "cell_type": "code",
   "execution_count": 1,
   "metadata": {
    "tags": [
     "remove-cell"
    ]
   },
   "outputs": [
    {
     "data": {
      "text/html": [
       "<style>.d-flex {\n",
       "    display: none!important;\n",
       "}\n",
       "\n",
       ".bd-toc nav {\n",
       "    opacity: 1;\n",
       "    max-height: 100vh!important;\n",
       "}\n",
       "\n",
       ".bd-toc .nav .nav {\n",
       "    display: block;\n",
       "}\n",
       "\n",
       ".prev-next-bottom {\n",
       "    display: none;\n",
       "}\n",
       "\n",
       ".footer {\n",
       "    display: none;\n",
       "}\n",
       "\n",
       ".navbar_footer {\n",
       "\tdisplay: none;\n",
       "}\n",
       "\n",
       ".definition {\n",
       "\tbackground-color: rgba(123, 183, 223, 0.33);\n",
       "\tborder-radius: 20px;\n",
       "\tpadding: 20px 20px 10px 20px;\n",
       "\tborder-style: solid;\n",
       "\tborder-color: rgba(123, 183, 223, 0.5);\n",
       "}\n",
       "\n",
       ".theorem {\n",
       "\tbackground-color: rgba(240, 213, 75, 0.33);\n",
       "\tborder-radius: 20px;\n",
       "\tpadding: 20px 20px 10px 20px;\n",
       "\tborder-style: solid;\n",
       "\tborder-color: rgba(240, 213, 75, 0.5);\n",
       "}\n",
       "\n",
       ".lemma {\n",
       "\tbackground-color: rgba(255, 218, 185, 0.33);\n",
       "\tborder-radius: 20px;\n",
       "\tpadding: 20px 20px 10px 20px;\n",
       "\tborder-style: solid;\n",
       "\tborder-color: rgba(255, 218, 185, 0.5);\n",
       "}\n",
       "\n",
       ".observation {\n",
       "\tbackground-color: rgba(178, 234, 188, 0.33);\n",
       "\tborder-radius: 20px;\n",
       "\tpadding: 20px 20px 10px 20px;\n",
       "\tborder-style: solid;\n",
       "\tborder-color: rgba(178, 234, 188, 0.5);\n",
       "}\n",
       "\n",
       "details.proof {\n",
       "    border-width: 2px;\n",
       "\tborder-radius: 20px;\n",
       "\tborder-style: solid;\n",
       "\tbackground-color: rgba(128, 128, 128, 0.2);\n",
       "\tborder-color: rgba(128, 128, 128, 0.1);\n",
       "}\n",
       "\n",
       "\n",
       "details.proof div{\n",
       "\tpadding: 20px 20px 10px 20px;\n",
       "}\n",
       "\n",
       "details.proof {\n",
       "\tpadding: 0px 30px 0px 30px;\n",
       "}\n",
       "\n",
       "summary {\n",
       "\tmargin-left: -32px;\n",
       "\tpadding-left: 15px;\n",
       "\tpadding-right: 15px;\n",
       "}\n",
       "\n",
       "summary + * {\n",
       "    margin-top: 10px;\n",
       "}\n",
       "\n",
       ".tag_center-output div img {\n",
       "    display:block;\n",
       "    margin:auto;\n",
       "}\n",
       "\n",
       ".container {\n",
       "\twidth : 103% !important;\n",
       "}\n",
       "\n",
       "details > .math.notranslate.nohighlight {\n",
       "\tmargin-top: -50px;\n",
       "\tmargin-bottom: -15px;\n",
       "}</style>"
      ],
      "text/plain": [
       "<IPython.core.display.HTML object>"
      ]
     },
     "execution_count": 1,
     "metadata": {},
     "output_type": "execute_result"
    }
   ],
   "source": [
    "from IPython.display import HTML, set_matplotlib_formats\n",
    "set_matplotlib_formats('pdf', 'svg')\n",
    "css_style = open('../../../_static/custom_style.css', 'r').read()\n",
    "HTML(f'<style>{css_style}</style>')"
   ]
  },
  {
   "cell_type": "markdown",
   "metadata": {},
   "source": [
    "Natural cubic splines (NCS) are an interpolation tool that is of interest to many applications. In interpolation problems, we are given some datapoints and want to produce a function that passes through them. One choice for achieving this would be to use a piecewise linear function, and constrain the slopes and intercepts of the piecewise linear segments, such that it passes through the datapoints. This would give a rough approximation to the underlying function. However, in many settings it may be appropriate to impose further, or different conditions on the interpolating curve. For example, we may know that the underlying function is differentiable (the piecewise linear spline is not differentiable), or that it is $n$-times differentiable and so on.\n",
    "\n",
    "To achieve further regularity, we can choose a piecewise polynomial as the interpolating function. We can then constrain the piecewise segments to pass through the datapoints and (if necessary) to have equal derivatives at the datapoints. Such piecewise polynomials are called [splines](https://mathworld.wolfram.com/Spline.html). Cubic splines are splines in which the piecewise polynomials are of third-order. NCS have the further constraint that the curvature, that is the second derivative, of the interpolating function at the first and last point is $0$.\n",
    "\n",
    "In particular,{cite}`kvarving2008natural` given $N$ datapoints a cubic piecewise polynomial has $N-1$ piecewise segments, each with four coeffcients, giving $4(N - 1)$ degrees of freedom. Constraining the function values, first derivatives and second derivatives to be equal for the piecewise polynomials at all points except the first and last points gives $3(N-2)$ equations. Constraining the function values to be equal to the datapoint values gives $N$ more constraints. We are left with $2$ degrees of freedom, which can be dealt in different ways, giving different spline interpolants. If we constrain the second derivatives to be zero at the first and last points, we obtain NCS. Since all the constraints are linear, solving for the coefficients of a spline interpolant is a linear equation. Because the constraints relate pairs of segments only, the matrix corresponding to these linear constraints is tri-diagonal and can therefore be solved in $\\mathcal{O}(N)$ time. Below are the expressions{cite}`kvarving2008natural` for the NCS system of equations.\n",
    "\n",
    "\n",
    "<div class='lemma'>\n",
    "    \n",
    "**Result (Natural cubic spline)** Given data $\\{x_n, y_n\\}_{n = 0}^N$ with $x_n < x_{n+1}$, the natural cubic spline interpolating the data in the $n^{th}$ interval $[x_n, x_{n+1}]$ is\n",
    "    \n",
    "$$\\begin{align}\n",
    "S_n(x) = &~\\alpha_n (x - x_n)^3 + \\beta_n (x_{n + 1} -x)^3 + \\gamma_n (x - x_n) + \\delta_n (x_{n + 1} - x).\n",
    "\\end{align}$$\n",
    "    \n",
    "where the constants are given by\n",
    "    \n",
    "$$\\begin{align}\n",
    "\\alpha_n &= \\frac{z_{n+1}}{6h_n},~~\\beta_n = \\frac{z_n}{6h_n},~~\\gamma_n = \\left(\\frac{y_{n + 1}}{h_n} -  \\frac{y_{n + 1}h_n}{6} \\right), ~~\\delta_n = \\left(\\frac{y_n}{h_n} - \\frac{y_nh_n}{6}\\right),\n",
    "\\end{align}$$\n",
    "    \n",
    "and the curvatures $z_n$ are the solution to the linear problem\n",
    "    \n",
    "$$\\begin{align}\n",
    "\\begin{pmatrix}\n",
    "v_1    & h_1    & 0   & \\dots & 0 & 0 & 0 \\\\\n",
    "h_1    & v_2    & h_2 & \\dots & 0 & 0 & 0 \\\\\n",
    "0      & h_2    & v_3 & \\dots & \\vdots & \\vdots & \\vdots \\\\\n",
    "\\vdots & \\vdots & \\vdots  & \\ddots & v_{N-3} & h_{N-3} & 0 \\\\\n",
    "0      & 0      & 0  & \\dots & h_{N-3} & v_{N-2} & h_{N-2} \\\\\n",
    "0      & 0      & 0  & \\dots & 0 & h_{N-2} & v_{N-1} \\\\\n",
    "\\end{pmatrix}\\begin{pmatrix}\n",
    "z_{1} \\\\\n",
    "z_{2} \\\\\n",
    "\\vdots \\\\\n",
    "\\vdots \\\\\n",
    "z_{N-2} \\\\\n",
    "z_{N-1} \\\\\n",
    "\\end{pmatrix}=\\begin{pmatrix}\n",
    "u_{1} \\\\\n",
    "u_{2} \\\\\n",
    "\\vdots \\\\\n",
    "\\vdots \\\\\n",
    "u_{N-2} \\\\\n",
    "u_{N-1} \\\\\n",
    "\\end{pmatrix}\n",
    "\\end{align}$$\n",
    "    \n",
    "where $z_0 = z_n = 0$ and the linear problem is defined by\n",
    "    \n",
    "$$ h_n = x_{n + 1} - x_n,~b_n = \\frac{1}{h_n} (y_{n + 1} - y_n),~v_n = 2 (h_n + h_{n - 1}),~u_n = 6 (b_n - b_{n - 1})$$\n",
    "    \n",
    "\n",
    "</div>\n",
    "<br>\n",
    "\n",
    "\n",
    "As a further motivating point, it can be shown{cite}`kvarving2008natural` that out of all curves NCS is the smoothest interpolator, where smoothness is quantified by an appropriate metric based on the second derivative of the interpolant.\n",
    "    \n",
    "<div class='lemma'>\n",
    "    \n",
    "**Result (NCS are the smoothest interpolator)** Given data $x_n, y_n \\in \\mathbb{R}$ for $n = 0, 1, 2, ..., N$, among all twice continuously differentiable functions functions $f : [a, b] \\to \\mathbb{R}$ which interpolate $\\left\\{x_n, y_n\\right\\}_{n = 0}^N$, the natural cubic spline minimises the curvature metric\n",
    "    \n",
    "$$ C(f) = \\int^b_a \\left(f''(x)\\right)^2 dx. $$\n",
    "    \n",
    "</div>\n",
    "<br>\n",
    "    \n",
    "Below is two functions implementing NCS. The first takes in data `x_data`, `y_data` computes $h$ and solves the NCS equations for $z$. This is the costlier part of the algorithm ($\\mathcal{O}(N)$ in the number of datapoints) but only needs to be run once."
   ]
  },
  {
   "cell_type": "code",
   "execution_count": 43,
   "metadata": {},
   "outputs": [],
   "source": [
    "import numpy as np\n",
    "from scipy.linalg import solve_banded\n",
    "\n",
    "\n",
    "def solve_for_zh(x_data, y_data):\n",
    "    \n",
    "    # Number of datapoints\n",
    "    N = x_data.shape[0]\n",
    "    \n",
    "    # Compute quantities used in the NCS linear equation\n",
    "    h = x_data[1:] - x_data[:-1]\n",
    "    b = (y_data[1:] - y_data[:-1]) / h\n",
    "    v = 2 * (h[1:] + h[:-1])\n",
    "    u = 6 * (b[1:] - b[:-1])\n",
    "\n",
    "    # Create NCS constraint matric\n",
    "    A = np.zeros((N - 2, N - 2))\n",
    "    A[np.arange(N-2), np.arange(N-2)] = v\n",
    "    A[np.arange(N-3)+1, np.arange(N-3)] = h[1:-1]\n",
    "    A[np.arange(N-3), np.arange(N-3)+1] = h[1:-1]\n",
    "\n",
    "    # Solve the NCS linear equations, append zeroes to the z vector\n",
    "    z = np.linalg.solve(A, u)\n",
    "    z = np.concatenate([[0.], z, [0.]])\n",
    "    \n",
    "    return z, h"
   ]
  },
  {
   "cell_type": "markdown",
   "metadata": {},
   "source": [
    "Once the $z$ and $h$ values have been computed, we can use them to compute $S(x)$. The function below takes in the data, the $z$ and $h$ values computed and as well as an input location and returns the value of the NCS at the input location."
   ]
  },
  {
   "cell_type": "code",
   "execution_count": 44,
   "metadata": {},
   "outputs": [],
   "source": [
    "def S(x, x_data, y_data, z, h):\n",
    "    \n",
    "    # Index corresponding the the interval that x is in\n",
    "    i = np.searchsorted(x_data, x) - 1\n",
    "    \n",
    "    if i >= 0 and i <= x_data.shape[0] - 2:\n",
    "    \n",
    "        S = z[i+1] / (6 * h[i]) * (x - x_data[i]) ** 3\n",
    "        S = S + z[i] / (6 * h[i]) * (x_data[i+1] - x) ** 3\n",
    "        S = S + (y_data[i+1] / h[i] - z[i+1] * h[i] / 6) * (x - x_data[i])\n",
    "        S = S + (y_data[i] / h[i] - z[i] * h[i] / 6) * (x_data[i+1] - x)\n",
    "    \n",
    "        return S\n",
    "    \n",
    "    elif i < 0:\n",
    "        \n",
    "        slope = z[0] / (2 * h[0]) * (x_data[1] - x) ** 2\n",
    "        slope = slope + (y_data[1] / h[0] - z[1] * h[0] / 6)\n",
    "        slope = slope - (y_data[0] / h[0] - z[0] * h[0] / 6)\n",
    "        \n",
    "        S = y_data[0] + slope * (x - x_data[0])\n",
    "        \n",
    "        return S\n",
    "    \n",
    "    elif i >= x_data.shape[0] - 2:\n",
    "        \n",
    "        slope = z[-1] / (2 * h[-2]) * (x - x_data[-2]) ** 2\n",
    "        slope = slope + (y_data[-1] / h[-2] - z[-1] * h[-1] / 6)\n",
    "        slope = slope - (y_data[-2] / h[-2] - z[-2] * h[-1] / 6)\n",
    "        \n",
    "        S = y_data[-1] + slope * (x - x_data[-1])\n",
    "        \n",
    "        return S"
   ]
  },
  {
   "cell_type": "markdown",
   "metadata": {},
   "source": [
    "We can now fit NCS to a set of points"
   ]
  },
  {
   "cell_type": "code",
   "execution_count": 45,
   "metadata": {},
   "outputs": [
    {
     "name": "stdout",
     "output_type": "stream",
     "text": [
      "[[-5.23901579 -4.52521364  0.          0.        ]\n",
      " [-4.52521364 -5.25264139  1.89889294  0.        ]\n",
      " [ 0.          1.89889294  1.84275164 -0.97751712]\n",
      " [ 0.          0.         -0.97751712 -2.63886215]]\n",
      "[-5.23901579 -5.25264139  1.84275164 -2.63886215]\n",
      "[ 1.90570574 -4.52521364  1.89889294 -0.97751712 -0.34191395]\n"
     ]
    }
   ],
   "source": [
    "np.random.seed(1)\n",
    "\n",
    "x_data = 2 * np.pi * np.random.uniform(size=(6,))\n",
    "y_data = np.sin(x_data)\n",
    "x_plot = np.linspace(-1., 4., 100)\n",
    "\n",
    "z, h = solve_for_zh(x_data, y_data)\n",
    "spline = [S(x_, x_data, y_data, z, h) for x_ in x_plot]"
   ]
  },
  {
   "cell_type": "code",
   "execution_count": 36,
   "metadata": {},
   "outputs": [
    {
     "data": {
      "image/png": "[encoded data removed]",
      "text/plain": [
       "<Figure size 432x288 with 1 Axes>"
      ]
     },
     "metadata": {
      "needs_background": "light"
     },
     "output_type": "display_data"
    }
   ],
   "source": [
    "import matplotlib.pyplot as plt\n",
    "\n",
    "plt.plot(x_plot, spline)\n",
    "plt.scatter(x_data, y_data)\n",
    "plt.show()"
   ]
  },
  {
   "cell_type": "code",
   "execution_count": null,
   "metadata": {},
   "outputs": [],
   "source": []
  }
 ],
 "metadata": {
  "kernelspec": {
   "display_name": "venv-random-walks",
   "language": "python",
   "name": "venv-random-walks"
  },
  "language_info": {
   "codemirror_mode": {
    "name": "ipython",
    "version": 3
   },
   "file_extension": ".py",
   "mimetype": "text/x-python",
   "name": "python",
   "nbconvert_exporter": "python",
   "pygments_lexer": "ipython3",
   "version": "3.7.3"
  }
 },
 "nbformat": 4,
 "nbformat_minor": 4
}
