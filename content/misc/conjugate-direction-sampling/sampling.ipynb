{
 "cells": [
  {
   "cell_type": "code",
   "execution_count": 2,
   "metadata": {},
   "outputs": [],
   "source": [
    "import tensorflow as tf\n",
    "import tensorflow_probability as tfp\n",
    "from tensorflow_probability.python.mcmc.internal import slice_sampler_utils as ssu\n",
    "\n",
    "import numpy as np\n",
    "import matplotlib.pyplot as plt\n",
    "\n",
    "from collections import namedtuple"
   ]
  },
  {
   "cell_type": "markdown",
   "metadata": {},
   "source": [
    "## Gram-Schmidt for conjugate directions\n",
    "\n",
    "$$\\begin{align}\n",
    "v_i = u_i + \\sum_{j = 1}^{i - 1} \\beta_{ij} v_j.\n",
    "\\end{align}$$\n",
    "\n",
    "where $v_0 = u_0$ and $\\beta_{ij}$ are appropriately chosen constants such that $d_i A d_j = 0$ whenever $i \\neq j$\n",
    "\n",
    "$$\\begin{align}\n",
    "\\beta_{ij} = - \\frac{u_i^\\top A v_j}{v_j^\\top A v_j}.\n",
    "\\end{align}$$"
   ]
  },
  {
   "cell_type": "code",
   "execution_count": 3,
   "metadata": {},
   "outputs": [],
   "source": [
    "def quadratic_form(x, mean, cov):\n",
    "    \n",
    "    diff = x - mean\n",
    "    prec_diff = tf.linalg.solve(cov, diff)\n",
    "    quad = - 0.5 * tf.reduce_sum(diff * prec_diff, axis=0)\n",
    "    \n",
    "    return quad\n",
    "\n",
    "def quad_log_prob(x, mean, cov):\n",
    "    \n",
    "    with tf.GradientTape() as tape:\n",
    "        \n",
    "        tape.watch(x)\n",
    "        \n",
    "        log_prob = quadratic_form(x, mean, cov)\n",
    "        \n",
    "    gradients = tape.gradient(log_prob, x)\n",
    "    \n",
    "    return log_prob, gradients"
   ]
  },
  {
   "cell_type": "code",
   "execution_count": 4,
   "metadata": {},
   "outputs": [],
   "source": [
    "class cgcs_kernel(tfp.mcmc.TransitionKernel):\n",
    "    \n",
    "    def __init__(self, log_prob, reset_every):\n",
    "        \n",
    "        super().__init__()\n",
    "        \n",
    "        self.log_prob = log_prob\n",
    "        self.epsilon = 1e-6\n",
    "        self.reset_every = reset_every\n",
    "        \n",
    "    \n",
    "    def is_calibrated(self):\n",
    "        return True\n",
    "    \n",
    "    \n",
    "    def one_step(self, current_state, previous_kernel_results, seed=None):\n",
    "        \n",
    "        x = current_state\n",
    "        D = previous_kernel_results[0]\n",
    "        \n",
    "        d = self.new_conjugate_direction(x, D)\n",
    "        d = d / tf.reduce_sum(d ** 2, axis=0, keepdims=True) ** 0.5\n",
    "        cond_log_prob = self.cond_log_prob(x, d)\n",
    "        \n",
    "        result = ssu.slice_sampler_one_dim(cond_log_prob,\n",
    "                                           x_initial=tf.zeros(shape=()),\n",
    "                                           max_doublings=5,\n",
    "                                           step_size=2.0*tf.ones(shape=()))\n",
    "            \n",
    "        stepsize, _, _, _, _ = result\n",
    "        x = x + stepsize * d\n",
    "        \n",
    "        D = tf.concat([D, d], axis=-1)\n",
    "        if D.shape[1] > self.reset_every:\n",
    "            D = D[:, 1:]\n",
    "        \n",
    "        return x, [D]\n",
    "    \n",
    "    def bootstrap_results(self, initial_state):\n",
    "        return [tf.ones(shape=(initial_state.shape[0], 0))]\n",
    "    \n",
    "    \n",
    "    def new_conjugate_direction(self, x, D):\n",
    "        \n",
    "        _, dl = self.log_prob(x)\n",
    "        \n",
    "        if D.shape[1] == 0:\n",
    "            return dl\n",
    "        \n",
    "        else:\n",
    "            # Get hessian-gradient products at x, compute conjugate direction\n",
    "            AD = self.grad_hessian_products(x, D)\n",
    "            d = self.conjugate_by_gram_schmidt(dl, D, AD)\n",
    "        \n",
    "            return d\n",
    "    \n",
    "    \n",
    "    def conjugate_by_gram_schmidt(self, d, D, AD):\n",
    "        \n",
    "        DTAD = tf.matmul(D, AD, transpose_a=True)\n",
    "        DTAd = tf.matmul(AD, d, transpose_a=True)\n",
    "        a = - tf.linalg.solve(DTAD, DTAd)\n",
    "        \n",
    "        d = d + np.matmul(D, a)\n",
    "        \n",
    "        return d\n",
    "    \n",
    "        \n",
    "    def grad_hessian_products(self, x, D):\n",
    "        \n",
    "        K = D.shape[-1]\n",
    "        \n",
    "        X = tf.tile(x, multiples=[1, K])\n",
    "        \n",
    "        _, dl_pos = self.log_prob(X + self.epsilon * D)\n",
    "        _, dl_neg = self.log_prob(X - self.epsilon * D)\n",
    "        \n",
    "        AD = (dl_pos - dl_neg) / (2 * self.epsilon)\n",
    "        \n",
    "        return AD\n",
    "    \n",
    "    def cond_log_prob(self, x, d):\n",
    "        return lambda a : self.log_prob(x + a * d)[0]"
   ]
  },
  {
   "cell_type": "code",
   "execution_count": 16,
   "metadata": {},
   "outputs": [
    {
     "name": "stdout",
     "output_type": "stream",
     "text": [
      "tf.Tensor(-0.9785855, shape=(), dtype=float32) tf.Tensor(0.060810655, shape=(), dtype=float32)\n"
     ]
    },
    {
     "data": {
      "image/png": "[encoded data removed]",
      "text/plain": [
       "<Figure size 360x360 with 1 Axes>"
      ]
     },
     "metadata": {
      "needs_background": "light"
     },
     "output_type": "display_data"
    },
    {
     "data": {
      "image/png": "[encoded data removed]",
      "text/plain": [
       "<Figure size 360x360 with 1 Axes>"
      ]
     },
     "metadata": {
      "needs_background": "light"
     },
     "output_type": "display_data"
    }
   ],
   "source": [
    "num_results = 500\n",
    "init_state = tf.transpose(tf.convert_to_tensor([[1.0, 0.5]]))\n",
    "mean = tf.zeros((2, 1))\n",
    "cov = tf.convert_to_tensor([[1.0, 0.9],\n",
    "                            [0.9, 1.0]])\n",
    "\n",
    "log_prob = lambda x : quad_log_prob(x, mean, cov)\n",
    "\n",
    "states = tfp.mcmc.sample_chain(num_results=num_results,\n",
    "                               current_state=init_state,\n",
    "                               kernel=cgcs_kernel(log_prob, reset_every=1),\n",
    "                               num_burnin_steps=0,\n",
    "                               num_steps_between_results=0,\n",
    "                               trace_fn=None)\n",
    "\n",
    "log_probs = tf.convert_to_tensor([log_prob(state)[0] for state in states])\n",
    "print(tf.reduce_mean(log_probs), tf.reduce_mean(log_probs ** 2) ** 0.5 / states.shape[0] ** 0.5)\n",
    "\n",
    "plt.figure(figsize=(5, 5))\n",
    "plt.scatter(states_[:, 0], states_[:, 1])\n",
    "init_state = np.array(init_state)\n",
    "plt.scatter([init_state[1, 0]], [init_state[1, 0]])\n",
    "\n",
    "plt.xlim([-5, 5])\n",
    "plt.ylim([-5, 5])\n",
    "plt.show()\n",
    "\n",
    "plt.figure(figsize=(5, 5))\n",
    "plt.plot(states_[:, 0], states_[:, 1])\n",
    "plt.plot([states_[0, 0], init_state[0]], [states_[0, 1], init_state[1]])\n",
    "plt.plot([0, eigvec[0, 0]], [0, eigvec[0, 1]])\n",
    "plt.plot([0, eigvec[1, 0]], [0, eigvec[1, 1]])\n",
    "\n",
    "plt.xlim([-5, 5])\n",
    "plt.ylim([-5, 5])\n",
    "plt.show()"
   ]
  },
  {
   "cell_type": "code",
   "execution_count": 17,
   "metadata": {},
   "outputs": [
    {
     "name": "stdout",
     "output_type": "stream",
     "text": [
      "tf.Tensor(-0.969536, shape=(), dtype=float32) tf.Tensor(0.055988923, shape=(), dtype=float32)\n"
     ]
    },
    {
     "data": {
      "image/png": "[encoded data removed]",
      "text/plain": [
       "<Figure size 360x360 with 1 Axes>"
      ]
     },
     "metadata": {
      "needs_background": "light"
     },
     "output_type": "display_data"
    },
    {
     "data": {
      "image/png": "[encoded data removed]",
      "text/plain": [
       "<Figure size 360x360 with 1 Axes>"
      ]
     },
     "metadata": {
      "needs_background": "light"
     },
     "output_type": "display_data"
    }
   ],
   "source": [
    "num_results = 500\n",
    "init_state = tf.transpose(tf.convert_to_tensor([[1.0, 1.0]]))\n",
    "mean = tf.zeros((2, 1))\n",
    "cov = tf.convert_to_tensor([[1.0, 0.9],\n",
    "                            [0.9, 1.0]])\n",
    "\n",
    "log_prob = lambda x : quadratic_form(x, mean, cov)\n",
    "\n",
    "states = tfp.mcmc.sample_chain(num_results=num_results,\n",
    "                               current_state=init_state,\n",
    "                               kernel=tfp.mcmc.SliceSampler(target_log_prob_fn=log_prob,\n",
    "                                                            step_size=1.0,\n",
    "                                                            max_doublings=5),\n",
    "                               num_burnin_steps=0,\n",
    "                               num_steps_between_results=0,\n",
    "                               trace_fn=None)\n",
    "\n",
    "log_probs = tf.convert_to_tensor([log_prob(state)[0] for state in states])\n",
    "print(tf.reduce_mean(log_probs), tf.reduce_mean(log_probs ** 2) ** 0.5 / states.shape[0] ** 0.5)\n",
    "\n",
    "states_ = np.array(states)[:, :, 0]\n",
    "eigval, eigvec = tf.linalg.eig(cov)\n",
    "eigvec = np.real(np.array(eigvec))\n",
    "\n",
    "plt.figure(figsize=(5, 5))\n",
    "plt.scatter(states_[:, 0], states_[:, 1])\n",
    "plt.xlim([-5, 5])\n",
    "plt.ylim([-5, 5])\n",
    "plt.show()\n",
    "\n",
    "plt.figure(figsize=(5, 5))\n",
    "plt.plot(states_[:, 0], states_[:, 1])\n",
    "plt.plot([0, eigvec[0, 0]], [0, eigvec[0, 1]])\n",
    "plt.plot([0, eigvec[1, 0]], [0, eigvec[1, 1]])\n",
    "\n",
    "plt.xlim([-5, 5])\n",
    "plt.ylim([-5, 5])\n",
    "plt.show()"
   ]
  },
  {
   "cell_type": "code",
   "execution_count": null,
   "metadata": {},
   "outputs": [],
   "source": []
  }
 ],
 "metadata": {
  "kernelspec": {
   "display_name": "venv-random-walks",
   "language": "python",
   "name": "venv-random-walks"
  },
  "language_info": {
   "codemirror_mode": {
    "name": "ipython",
    "version": 3
   },
   "file_extension": ".py",
   "mimetype": "text/x-python",
   "name": "python",
   "nbconvert_exporter": "python",
   "pygments_lexer": "ipython3",
   "version": "3.7.3"
  }
 },
 "nbformat": 4,
 "nbformat_minor": 4
}
