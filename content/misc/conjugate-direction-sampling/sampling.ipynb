{
 "cells": [
  {
   "cell_type": "code",
   "execution_count": 28,
   "metadata": {},
   "outputs": [],
   "source": [
    "import tensorflow as tf\n",
    "import tensorflow_probability as tfp\n",
    "\n",
    "import numpy as np\n",
    "import matplotlib.pyplot as plt"
   ]
  },
  {
   "cell_type": "markdown",
   "metadata": {},
   "source": [
    "## Gram-Schmidt for conjugate directions\n",
    "\n",
    "$$\\begin{align}\n",
    "v_i = u_i + \\sum_{j = 1}^{i - 1} \\beta_{ij} v_j.\n",
    "\\end{align}$$\n",
    "\n",
    "where $v_0 = u_0$ and $\\beta_{ij}$ are appropriately chosen constants such that $d_i A d_j = 0$ whenever $i \\neq j$\n",
    "\n",
    "$$\\begin{align}\n",
    "\\beta_{ij} = - \\frac{u_i^\\top A v_j}{v_j^\\top A v_j}.\n",
    "\\end{align}$$"
   ]
  },
  {
   "cell_type": "code",
   "execution_count": 84,
   "metadata": {},
   "outputs": [],
   "source": [
    "def quadratic_form(x, mean, cov):\n",
    "    \n",
    "    diff = x - mean\n",
    "    prec_diff = tf.linalg.solve(cov, diff)\n",
    "    quad = - 0.5 * tf.reduce_sum(diff * prec_diff, axis=0)\n",
    "    \n",
    "    return quad\n",
    "\n",
    "def quad_log_prob(x, mean, cov):\n",
    "    \n",
    "    with tf.GradientTape() as tape:\n",
    "        \n",
    "        tape.watch(x)\n",
    "        \n",
    "        log_prob = quadratic_form(x, mean, cov)\n",
    "        \n",
    "    gradients = tape.gradient(log_prob, x)\n",
    "    \n",
    "    return log_prob, gradients\n",
    "        \n",
    "    \n",
    "\n",
    "def cond_log_prob(unnorm_log_prob, x0, d):\n",
    "    return lambda x : unnorm_log_prob(x0 + x * d)"
   ]
  },
  {
   "cell_type": "code",
   "execution_count": null,
   "metadata": {},
   "outputs": [],
   "source": [
    "class cgcs_kernel(tfp.mcmc.TransitionKernel):\n",
    "    \n",
    "    def __init__(self, log_prob):\n",
    "        \n",
    "        super().__init__()\n",
    "        \n",
    "        self.log_prob\n",
    "        self.epsilon = 1e-6\n",
    "        \n",
    "    \n",
    "    def is_calibrated(self):\n",
    "        return True\n",
    "    \n",
    "    \n",
    "    def one_step(self, current_state, previous_kernel_results, seed=None):\n",
    "        pass\n",
    "    \n",
    "    \n",
    "    def orthogonalise_by_gram_schmidt(self, d, D, AD):\n",
    "        \n",
    "        DTAD = tf.matmul(D, AD, transpose_a=True)\n",
    "        DTAd = tf.matmul(AD, d, transpose_a=True)\n",
    "        a = - tf.linalg.inv(DTDA, DTAd)\n",
    "        \n",
    "        d_ = d + np.matmul(D, a)\n",
    "        \n",
    "        return d_\n",
    "    \n",
    "        \n",
    "    def grad_hessian_products(self, d_hist):\n",
    "        log_prob, dlog_prob = self.log_prob(d_)\n",
    "        pass"
   ]
  },
  {
   "cell_type": "code",
   "execution_count": 65,
   "metadata": {},
   "outputs": [
    {
     "data": {
      "text/plain": [
       "<__main__.cgcs_kernel at 0x143bf8dd8>"
      ]
     },
     "execution_count": 65,
     "metadata": {},
     "output_type": "execute_result"
    }
   ],
   "source": [
    "cgcs_kernel()"
   ]
  },
  {
   "cell_type": "code",
   "execution_count": 88,
   "metadata": {},
   "outputs": [
    {
     "data": {
      "text/plain": [
       "(<tf.Tensor: shape=(1,), dtype=float32, numpy=array([-1.], dtype=float32)>,\n",
       " <tf.Tensor: shape=(2, 1), dtype=float32, numpy=\n",
       " array([[-1.],\n",
       "        [-1.]], dtype=float32)>)"
      ]
     },
     "execution_count": 88,
     "metadata": {},
     "output_type": "execute_result"
    }
   ],
   "source": [
    "x = tf.ones((2, 1))\n",
    "mean = tf.zeros((2, 1))\n",
    "cov = tf.convert_to_tensor([[1.0, 0.],\n",
    "                            [0., 1.0]])\n",
    "\n",
    "quad_log_prob(x, mean, cov)"
   ]
  },
  {
   "cell_type": "code",
   "execution_count": 48,
   "metadata": {},
   "outputs": [],
   "source": [
    "num_results = 10\n",
    "init_state = tf.ones((2, 1))\n",
    "mean = tf.zeros((2, 1))\n",
    "cov = tf.convert_to_tensor([[1.0, 0.5],\n",
    "                            [0.5, 1.0]])\n",
    "\n",
    "log_prob = lambda x : quadratic_form(x, mean, cov)\n",
    "\n",
    "states = tfp.mcmc.sample_chain(num_results=num_results,\n",
    "                               current_state=init_state,\n",
    "                               kernel=tfp.mcmc.SliceSampler(target_log_prob_fn=log_prob,\n",
    "                                                            step_size=1.0,\n",
    "                                                            max_doublings=5),\n",
    "                               num_burnin_steps=0,\n",
    "                               num_steps_between_results=1,\n",
    "                               trace_fn=None)"
   ]
  },
  {
   "cell_type": "code",
   "execution_count": 49,
   "metadata": {},
   "outputs": [
    {
     "data": {
      "image/png": "[encoded data removed]",
      "text/plain": [
       "<Figure size 432x288 with 1 Axes>"
      ]
     },
     "metadata": {
      "needs_background": "light"
     },
     "output_type": "display_data"
    },
    {
     "data": {
      "image/png": "[encoded data removed]",
      "text/plain": [
       "<Figure size 432x288 with 1 Axes>"
      ]
     },
     "metadata": {
      "needs_background": "light"
     },
     "output_type": "display_data"
    }
   ],
   "source": [
    "states_ = np.array(states)[:, :, 0]\n",
    "\n",
    "plt.scatter(states_[:, 0], states_[:, 1])\n",
    "plt.show()\n",
    "plt.plot(states_[:, 0], states_[:, 1])\n",
    "plt.show()"
   ]
  },
  {
   "cell_type": "code",
   "execution_count": 92,
   "metadata": {},
   "outputs": [
    {
     "data": {
      "text/plain": [
       "['cgcs_kernel()',\n",
       " 'class cgcs_kernel(tfp.mcmc.TransitionKernel):\\n    \\n    def __init__(self):\\n        \\n        super().__init__()\\n        \\n    \\n    def is_calibrated(self):\\n        return True\\n    \\n    def one_step(current_state, previous_kernel_results, seed=None):\\n        pass',\n",
       " 'cgcs_kernel()',\n",
       " 'class cgcs_kernel(tfp.mcmc.TransitionKernel):\\n    \\n    def __init__(self, log_prob):\\n        \\n        super().__init__()\\n        \\n        self.log_prob\\n        self.epsilon = 1e-6\\n        \\n    \\n    def is_calibrated(self):\\n        return True\\n    \\n    \\n    def one_step(self, current_state, previous_kernel_results, seed=None):\\n        pass\\n    \\n    \\n    def orthogonalise_by_gram_schmidt(self, d, D, AD):\\n        \\n        DTAD = tf.matmul(D, AD, transpose_a=True)\\n        \\n        a = - tf.linalg.inv(DTDA, )\\n        \\n    def grad_hessian_products(self, d_hist):\\n        log_prob, dlog_prob = self.log_prob(d_)\\n        pass',\n",
       " 'tf.repeat',\n",
       " 'help(tf.repeat)',\n",
       " 'tf.repeat(tf.ones(3, 1), repeats=[1, 4])',\n",
       " 'tf.repeat(tf.ones(3, 1), repeats=[1])',\n",
       " 'tf.repeat(tf.ones(3, 1), repeats=[1, 1])',\n",
       " 'tf.repeat(tf.ones(shape=(3, 1)), repeats=[1, 1])',\n",
       " '(tf.ones(shape=(3, 1))',\n",
       " 'tf.ones(shape=(3, 1))',\n",
       " 'tf.repeat(tf.ones(shape=(3, 1)), repeats=[3, 1])',\n",
       " 'tf.ones(shape=(3, 1))',\n",
       " 'help(tf.repeats)',\n",
       " 'help(tf.repeat)',\n",
       " 'help(tf.tile)',\n",
       " 'tf.tile(tf.ones(shape=(3, 1)), shape=[1, 1])',\n",
       " 'tf.tile(tf.ones(shape=(3, 1)), multiples=[1, 1])',\n",
       " 'tf.tile(tf.ones(shape=(3, 1)), multiples=[1, 2])',\n",
       " 'tf.tile(tf.ones(shape=(3, 1)), multiples=[1, 10])',\n",
       " 'def quadratic_form(x, mean, cov):\\n    \\n    diff = x - mean\\n    prec_diff = tf.linalg.solve(cov, diff)\\n    quad = - 0.5 * tf.reduce_sum(diff * prec_diff, axis=0)\\n    \\n    return quad\\n\\ndef quad_log_prob(x, mean, cov):\\n    \\n    with tf.GradientTape() as tape:\\n        \\n        tape.watch(x)\\n        \\n        log_prob = quadratic_form(x, mean, cov)\\n        \\n    gradients = tape.gradient(log_prob, x)\\n    \\n    return log_prob, gradients\\n        \\n\\ndef cond_log_prob(unnorm_log_prob, x0, d):\\n    return lambda x : unnorm_log_prob(x0 + x * d)',\n",
       " 'x = tf.ones((2, 1))\\nmean = tf.zeros((2, 1))\\ncov = tf.convert_to_tensor([[1.0, 0.5],\\n                            [0.5, 1.0]])\\n\\nquad_log_prob(x, mean, cov)',\n",
       " 'x = tf.zeros((2, 1))\\nmean = tf.zeros((2, 1))\\ncov = tf.convert_to_tensor([[1.0, 0.5],\\n                            [0.5, 1.0]])\\n\\nquad_log_prob(x, mean, cov)',\n",
       " 'x = tf.zeros((2, 1))\\nmean = tf.zeros((2, 1))\\ncov = tf.convert_to_tensor([[1.0, 0.],\\n                            [0., 1.0]])\\n\\nquad_log_prob(x, mean, cov)',\n",
       " 'x = tf.ones((2, 1))\\nmean = tf.zeros((2, 1))\\ncov = tf.convert_to_tensor([[1.0, 0.],\\n                            [0., 1.0]])\\n\\nquad_log_prob(x, mean, cov)',\n",
       " '_ih[-5:]',\n",
       " '_ih[-100:]',\n",
       " '_ih[-20:]',\n",
       " '_ih[-30:]']"
      ]
     },
     "execution_count": 92,
     "metadata": {},
     "output_type": "execute_result"
    }
   ],
   "source": [
    "_ih[-30:]"
   ]
  },
  {
   "cell_type": "code",
   "execution_count": 95,
   "metadata": {},
   "outputs": [
    {
     "name": "stdout",
     "output_type": "stream",
     "text": [
      "'class cgcs_kernel(tfp.mcmc.TransitionKernel):\n",
      "    \n",
      "    def __init__(self, log_prob):\n",
      "        \n",
      "        super().__init__()\n",
      "        \n",
      "        self.log_prob\n",
      "        self.epsilon = 1e-6\n",
      "        \n",
      "    \n",
      "    def is_calibrated(self):\n",
      "        return True\n",
      "    \n",
      "    \n",
      "    def one_step(self, current_state, previous_kernel_results, seed=None):\n",
      "        pass\n",
      "    \n",
      "    \n",
      "    def orthogonalise_by_gram_schmidt(self, d, D, AD):\n",
      "        \n",
      "        DTAD = tf.matmul(D, AD, transpose_a=True)\n",
      "        \n",
      "        a = - tf.linalg.inv(DTDA, )\n",
      "        \n",
      "    def grad_hessian_products(self, d_hist):\n",
      "        log_prob, dlog_prob = self.log_prob(d_)\n",
      "        pass\n"
     ]
    }
   ],
   "source": [
    "print(\"'class cgcs_kernel(tfp.mcmc.TransitionKernel):\\n    \\n    def __init__(self, log_prob):\\n        \\n        super().__init__()\\n        \\n        self.log_prob\\n        self.epsilon = 1e-6\\n        \\n    \\n    def is_calibrated(self):\\n        return True\\n    \\n    \\n    def one_step(self, current_state, previous_kernel_results, seed=None):\\n        pass\\n    \\n    \\n    def orthogonalise_by_gram_schmidt(self, d, D, AD):\\n        \\n        DTAD = tf.matmul(D, AD, transpose_a=True)\\n        \\n        a = - tf.linalg.inv(DTDA, )\\n        \\n    def grad_hessian_products(self, d_hist):\\n        log_prob, dlog_prob = self.log_prob(d_)\\n        pass\")"
   ]
  },
  {
   "cell_type": "code",
   "execution_count": null,
   "metadata": {},
   "outputs": [],
   "source": []
  }
 ],
 "metadata": {
  "kernelspec": {
   "display_name": "venv-random-walks",
   "language": "python",
   "name": "venv-random-walks"
  },
  "language_info": {
   "codemirror_mode": {
    "name": "ipython",
    "version": 3
   },
   "file_extension": ".py",
   "mimetype": "text/x-python",
   "name": "python",
   "nbconvert_exporter": "python",
   "pygments_lexer": "ipython3",
   "version": "3.7.3"
  }
 },
 "nbformat": 4,
 "nbformat_minor": 4
}
