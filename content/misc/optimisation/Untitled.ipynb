{
 "cells": [
  {
   "cell_type": "code",
   "execution_count": 36,
   "metadata": {},
   "outputs": [],
   "source": [
    "import jax\n",
    "import jax.numpy as jnp\n",
    "import scipy as scp\n",
    "import numpy as np"
   ]
  },
  {
   "cell_type": "code",
   "execution_count": 50,
   "metadata": {},
   "outputs": [
    {
     "name": "stdout",
     "output_type": "stream",
     "text": [
      "(1000, 1000) (1000,) (1000,)\n"
     ]
    }
   ],
   "source": [
    "D = 1000\n",
    "\n",
    "np.random.seed(0)\n",
    "\n",
    "A = jnp.array(np.random.rand(D, D))\n",
    "A = jnp.eye(D) + A @ A.T / D\n",
    "b = jnp.array(np.random.rand(D))\n",
    "x0 = jnp.array(np.random.rand(D))\n",
    "\n",
    "print(A.shape, b.shape, x0.shape)"
   ]
  },
  {
   "cell_type": "code",
   "execution_count": 51,
   "metadata": {},
   "outputs": [],
   "source": [
    "Achol = jnp.linalg.cholesky(A)\n",
    "iAchol = scp.linalg.lapack.clapack.dtrtri(Achol, lower=True)[0]\n",
    "iA = iAchol.T @ iAchol"
   ]
  },
  {
   "cell_type": "code",
   "execution_count": 56,
   "metadata": {},
   "outputs": [
    {
     "name": "stdout",
     "output_type": "stream",
     "text": [
      "CPU times: user 101 ms, sys: 3.64 ms, total: 105 ms\n",
      "Wall time: 103 ms\n",
      "CPU times: user 90.9 ms, sys: 991 µs, total: 91.8 ms\n",
      "Wall time: 90.4 ms\n",
      "CPU times: user 103 ms, sys: 943 µs, total: 103 ms\n",
      "Wall time: 102 ms\n"
     ]
    }
   ],
   "source": [
    "# First time around\n",
    "%time _ = jax.scipy.sparse.linalg.cg(A, b, x0=x0, tol=1e-6, atol=0.)\n",
    "\n",
    "# Second time around\n",
    "%time _ = jax.scipy.sparse.linalg.cg(A, b, x0=x0, tol=1e-6, atol=0.)\n",
    "\n",
    "# With warm start\n",
    "x = jax.scipy.sparse.linalg.cg(A, b, x0=x0, tol=1e-6, atol=0.)[0]\n",
    "%time _ = jax.scipy.sparse.linalg.cg(A, b, x0=x, tol=1e-6, atol=0.)"
   ]
  },
  {
   "cell_type": "code",
   "execution_count": 54,
   "metadata": {},
   "outputs": [
    {
     "name": "stdout",
     "output_type": "stream",
     "text": [
      "CPU times: user 59.3 ms, sys: 9.71 ms, total: 69 ms\n",
      "Wall time: 53.7 ms\n"
     ]
    }
   ],
   "source": [
    "Anp = np.array(A)\n",
    "bnp = np.array(b)\n",
    "\n",
    "%time _ = np.linalg.solve(Anp, bnp)"
   ]
  },
  {
   "cell_type": "code",
   "execution_count": 78,
   "metadata": {},
   "outputs": [
    {
     "name": "stdout",
     "output_type": "stream",
     "text": [
      "(10, 10) (10,) (10,)\n"
     ]
    }
   ],
   "source": [
    "D = 10\n",
    "\n",
    "np.random.seed(0)\n",
    "\n",
    "A = jnp.array(np.random.rand(D, D))\n",
    "A = jnp.eye(D) + A @ A.T / D\n",
    "b = jnp.array(np.random.rand(D))\n",
    "x0 = jnp.array(np.random.rand(D))\n",
    "\n",
    "print(A.shape, b.shape, x0.shape)"
   ]
  },
  {
   "cell_type": "code",
   "execution_count": 80,
   "metadata": {},
   "outputs": [
    {
     "name": "stdout",
     "output_type": "stream",
     "text": [
      "522 µs ± 68.4 µs per loop (mean ± std. dev. of 7 runs, 1000 loops each)\n",
      "130 µs ± 2.44 µs per loop (mean ± std. dev. of 7 runs, 10000 loops each)\n"
     ]
    }
   ],
   "source": [
    "%timeit _ = scp.sparse.linalg.cg(Anp, bnp, tol=1e-3, atol=0.)\n",
    "\n",
    "x = scp.sparse.linalg.cg(Anp, bnp, tol=1e-3, atol=0.)[0]\n",
    "%timeit _ = scp.sparse.linalg.cg(Anp, bnp, x0=x, tol=1e-3, atol=0.)"
   ]
  },
  {
   "cell_type": "code",
   "execution_count": null,
   "metadata": {},
   "outputs": [],
   "source": []
  }
 ],
 "metadata": {
  "kernelspec": {
   "display_name": "venv-random-walks",
   "language": "python",
   "name": "venv-random-walks"
  },
  "language_info": {
   "codemirror_mode": {
    "name": "ipython",
    "version": 3
   },
   "file_extension": ".py",
   "mimetype": "text/x-python",
   "name": "python",
   "nbconvert_exporter": "python",
   "pygments_lexer": "ipython3",
   "version": "3.7.3"
  }
 },
 "nbformat": 4,
 "nbformat_minor": 4
}
