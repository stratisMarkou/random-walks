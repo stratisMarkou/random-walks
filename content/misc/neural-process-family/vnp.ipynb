{
 "cells": [
  {
   "cell_type": "markdown",
   "metadata": {},
   "source": [
    "# Variational Neural Process\n",
    "\n",
    "Exact posterior\n",
    "\n",
    "$$ p(z | x_{1:N}, y_{1:N}) = \\frac{1}{Z_p} p(z) \\prod_{n = 1}^N p(y_n | x_n, z) $$\n",
    "\n",
    "Approximate posterior\n",
    "\n",
    "$$ q(z | x_{1:N}, y_{1:N}) = \\frac{1}{Z_q} p(z) \\prod_{n = 1}^N l(z| x_n, y_n) $$\n",
    "\n",
    "Tilted posterior\n",
    "\n",
    "$$ \\hat{p}(z | x_{1:N}, y_{1:N}) = \\frac{1}{Z_{\\hat{p}}} p(z) p(y_{\\in U} | x_{\\in U}, z) \\prod_{n \\not \\in U} l(z| x_n, y_n)$$\n",
    "\n",
    "KL divergence\n",
    "\n",
    "$$ KL(q || \\hat{p}) = - \\int q(z | x_{1:N}, y_{1:N}) \\log \\frac{p(y_{\\in U} | x_{\\in U}, z)}{\\prod_{n \\not \\in U} l(z| x_{n}, y_{n})} dz - \\log \\frac{Z_q}{Z_{\\hat{p}}} $$\n",
    "\n",
    "NP objective\n",
    "\n",
    "$$ \\mathcal{L}_{NP} = - \\int q(z | x_{1:N}, y_{1:N}) \\left[ \\log p(y_{\\in U} | x_{\\in U}, z) + \\frac{q(z| x_{\\not \\in U}, y_{\\not \\in U})}{q(z | x_{1:N}, y_{1:N})} \\right] dz $$\n",
    "\n",
    "NP objective with Bayesian Aggregation\n",
    "\n",
    "$$ \\mathcal{L}_{NP} = - \\int q(z | x_{1:N}, y_{1:N}) \\log  \\frac{p(y_{\\in U} | x_{\\in U}, z)}{\\prod_{n \\not \\in U}l(z | x_n, y_n)} dz - \\log \\frac{Z_q}{Z_{q_{\\not \\in U}}}$$"
   ]
  },
  {
   "cell_type": "code",
   "execution_count": null,
   "metadata": {},
   "outputs": [],
   "source": []
  },
  {
   "cell_type": "markdown",
   "metadata": {},
   "source": [
    "# Notes\n",
    "\n",
    "- When $\\hat{p}$ is allowed to change between gradient steps, the normalising constant $Z_{\\hat{p}}$ changes, and we must keep track of it. But if $\\hat{p}$ is frozen throughout a KL divergence optimisation procedure, we don't need to keep track of it.\n",
    "- What happens when we optimise the decoder weights? Can we include this in the same framework using $\\delta$'s?"
   ]
  }
 ],
 "metadata": {
  "kernelspec": {
   "display_name": "venv-random-walks",
   "language": "python",
   "name": "venv-random-walks"
  },
  "language_info": {
   "codemirror_mode": {
    "name": "ipython",
    "version": 3
   },
   "file_extension": ".py",
   "mimetype": "text/x-python",
   "name": "python",
   "nbconvert_exporter": "python",
   "pygments_lexer": "ipython3",
   "version": "3.7.3"
  }
 },
 "nbformat": 4,
 "nbformat_minor": 4
}
