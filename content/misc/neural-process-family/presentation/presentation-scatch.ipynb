{
 "cells": [
  {
   "cell_type": "code",
   "execution_count": 1,
   "metadata": {},
   "outputs": [],
   "source": [
    "import numpy as np\n",
    "import matplotlib.pyplot as plt"
   ]
  },
  {
   "cell_type": "code",
   "execution_count": 2,
   "metadata": {},
   "outputs": [],
   "source": [
    "def EQ(x, x_, scale, coeff):\n",
    "    \n",
    "    diff = x[:, None] - x_[None, :]\n",
    "    \n",
    "    quad = -0.5 * (diff / scale) ** 2\n",
    "    \n",
    "    eq = coeff ** 2 * np.exp(quad)\n",
    "    \n",
    "    return eq"
   ]
  },
  {
   "cell_type": "code",
   "execution_count": 13,
   "metadata": {},
   "outputs": [
    {
     "data": {
      "image/png": "[encoded data removed]",
      "text/plain": [
       "<Figure size 432x288 with 1 Axes>"
      ]
     },
     "metadata": {
      "needs_background": "light"
     },
     "output_type": "display_data"
    }
   ],
   "source": [
    "np.random.seed(0)\n",
    "\n",
    "scale = 1e0\n",
    "coeff = 1e0\n",
    "noise = 1e-1\n",
    "\n",
    "x = np.linspace(-2, 2, 40)\n",
    "\n",
    "Kdd = EQ(x, x, scale=scale, coeff=coeff)\n",
    "\n",
    "Kdd_chol = np.linalg.cholesky(Kdd + noise ** 2 * np.eye(x.shape[0]))\n",
    "\n",
    "y = Kdd_chol @ np.random.randn(x.shape[0])\n",
    "\n",
    "plt.scatter(x, y)\n",
    "plt.show()"
   ]
  },
  {
   "cell_type": "code",
   "execution_count": 23,
   "metadata": {},
   "outputs": [],
   "source": [
    "idx_train = np.random.choice(np.arange(y.shape[0]), size=5, replace=False)\n",
    "x_train = x[idx_train]\n",
    "y_train = y[idx_train]\n",
    "\n"
   ]
  },
  {
   "cell_type": "code",
   "execution_count": null,
   "metadata": {},
   "outputs": [],
   "source": []
  }
 ],
 "metadata": {
  "kernelspec": {
   "display_name": "venv-random-walks",
   "language": "python",
   "name": "venv-random-walks"
  },
  "language_info": {
   "codemirror_mode": {
    "name": "ipython",
    "version": 3
   },
   "file_extension": ".py",
   "mimetype": "text/x-python",
   "name": "python",
   "nbconvert_exporter": "python",
   "pygments_lexer": "ipython3",
   "version": "3.7.3"
  }
 },
 "nbformat": 4,
 "nbformat_minor": 4
}
