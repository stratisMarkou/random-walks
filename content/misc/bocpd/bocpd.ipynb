{
 "cells": [
  {
   "cell_type": "code",
   "execution_count": 261,
   "metadata": {},
   "outputs": [],
   "source": [
    "import numpy as np\n",
    "import scipy as scp\n",
    "\n",
    "import matplotlib.pyplot as plt"
   ]
  },
  {
   "cell_type": "markdown",
   "metadata": {},
   "source": [
    "## Assumptions\n",
    "\n",
    "In its simplest form, the BOCPD algorithm assumes the following generative model for regularly sampled observations $x_t$\n",
    "\n",
    "$$\\begin{align}\n",
    "r_{t + 1} &= \\begin{cases}\n",
    "0 & \\text{ with prob. } \\lambda \\\\\n",
    "r_t + 1 & \\text{ otherwise,}\n",
    "\\end{cases} \\\\\n",
    "\\theta_{t + 1} &= \\begin{cases}\n",
    "\\theta \\sim p(\\theta), & \\text{ if } r_{t+1} = 0 \\\\\n",
    "\\theta_t & \\text{ otherwise,}\n",
    "\\end{cases} \\\\\n",
    "x_{t + 1} &\\sim p(x_{t + 1} | \\theta_{t+1})\n",
    "\\end{align}$$\n",
    "\n",
    "with $r_0 = 1$. In other words, at each time step the model determines whether to produce a changepoint, by resetting the run length $r_{t + 1} = 0$ and re-sampling the parameters $\\theta_{t + 1}$, and then generates a datum $x_{t + 1}$. In general"
   ]
  },
  {
   "cell_type": "markdown",
   "metadata": {},
   "source": [
    "## Sampling from the prior"
   ]
  },
  {
   "cell_type": "code",
   "execution_count": 262,
   "metadata": {},
   "outputs": [],
   "source": [
    "mu0 = 0.\n",
    "beta = 0.1\n",
    "a = 10.\n",
    "b = 0.05\n",
    "p = 0.1\n",
    "\n",
    "gamma = np.random.gamma(shape=a, scale=b**-1)"
   ]
  },
  {
   "cell_type": "code",
   "execution_count": 263,
   "metadata": {},
   "outputs": [
    {
     "data": {
      "image/png": "[encoded data removed]",
      "text/plain": [
       "<Figure size 1008x216 with 1 Axes>"
      ]
     },
     "metadata": {
      "needs_background": "light"
     },
     "output_type": "display_data"
    }
   ],
   "source": [
    "np.random.seed(0)\n",
    "\n",
    "T = 200\n",
    "t = np.arange(T)\n",
    "        \n",
    "lamda_ = np.random.gamma(shape=a, scale=b**-1)\n",
    "mu_ = np.random.normal(mu0, (beta * lamda_) ** -0.5)\n",
    "\n",
    "mu = [mu_]\n",
    "lamda = [lamda_]\n",
    "x = []\n",
    "\n",
    "for t_ in t[:-1]:\n",
    "        \n",
    "    x_ = np.random.normal(mu_, lamda_**-0.5)\n",
    "    \n",
    "    if np.random.choice([True, False], p=[p, 1-p]):\n",
    "        \n",
    "        lamda_ = np.random.gamma(shape=a, scale=b**-1)\n",
    "        mu_ = np.random.normal(mu0, (beta * lamda_) ** -0.5)\n",
    "        \n",
    "    mu.append(mu_)\n",
    "    lamda.append(lamda_)\n",
    "    x.append(x_)\n",
    "        \n",
    "x.append(np.random.normal(mu_, lamda_**-0.5))\n",
    "x = np.array(x)\n",
    "\n",
    "plt.figure(figsize=(14, 3))\n",
    "plt.step(t, np.array(mu), color='k', zorder=1, alpha=0.3)\n",
    "plt.scatter(t, x, color='red', marker='+', zorder=2)\n",
    "plt.xlim([0, T-1])\n",
    "plt.show()"
   ]
  },
  {
   "cell_type": "markdown",
   "metadata": {},
   "source": [
    "## BOCPD"
   ]
  },
  {
   "cell_type": "code",
   "execution_count": 264,
   "metadata": {},
   "outputs": [],
   "source": [
    "mu0 = 0.\n",
    "beta = 0.01\n",
    "a = 10.\n",
    "b = 0.1\n",
    "p = 0.1\n",
    "\n",
    "r_max = 100\n",
    "\n",
    "def cond_pred(t, x, r_max, mu0, beta, a, b):\n",
    "    \n",
    "    \"\"\"\n",
    "    Conditional predictive p(x[t] | x[1:t-1], r) for Gaussian (G) a likelihood\n",
    "    with a Normal-Gamma (NG) prior.\n",
    "    \n",
    "    The predictive of a G-NG model is Student's t-distribution. For the\n",
    "    posterior updates and and the predictive distribution equations see\n",
    "    \n",
    "        https://www.cs.ubc.ca/~murphyk/Papers/bayesGauss.pdf\n",
    "        \n",
    "    Args:\n",
    "        t (int)        : time to compute the predictive, p(x[t] | x[1:t-1], r)\n",
    "        x (np.ndarray) : training data - shape (T,)\n",
    "        r_max (int)    : maximum run length allowed\n",
    "        mu0 (float)    : NG mean-of-mean parameter (in Normal)\n",
    "        beta (float)   : NG precision-of-mean parameter (in Normal)\n",
    "        a (float)      : NG a parameter (in Gamma)\n",
    "        b (float)      : NG b parameter (in Gamma)\n",
    "        \n",
    "    Returns:\n",
    "        cond_pred (np.ndarray) : conditional predictive - shape (r_max,)\n",
    "    \"\"\"\n",
    "    \n",
    "    # Array to hold the conditional predictive\n",
    "    cond_pred = np.zeros(shape=(r_max,))\n",
    "    \n",
    "    for r in range(r_max):\n",
    "        \n",
    "        # Slice all predictions from t-r (floored at 0) to t-1\n",
    "        xr = x[max(0, t-r):t]\n",
    "        \n",
    "        # Number of datapoints conditioning on\n",
    "        n = xr.shape[0]\n",
    "        \n",
    "        # Handle the case where n is 0 - posterior equals prior in this case\n",
    "        mean = np.mean(xr) if n > 0 else 0.\n",
    "        nvar = n * np.var(xr) if n > 0 else 0.\n",
    "        \n",
    "        # NG posterior updates\n",
    "        post_mu = (beta * mu0 + n * mean) / (beta + n)\n",
    "        post_beta = beta + n\n",
    "        post_a = a + 0.5 * n\n",
    "        post_b = b + 0.5 * nvar + \\\n",
    "                 0.5 * beta * n * (mean - mu0) ** 2 / (beta + n)\n",
    "        \n",
    "        # Parameters of Student-t predictive posterior\n",
    "        mu_pred_post = post_mu\n",
    "        prec_pred_post = (post_a * post_beta) / (post_b * (post_beta + 1))\n",
    "        df_pred_post = 2 * post_a\n",
    "        \n",
    "        # Compute p(x[t] | x[1:t-1], r) for given r\n",
    "        cond_pred[r] = scp.stats.t.pdf(x[t],\n",
    "                                       df=df_pred_post,\n",
    "                                       loc=mu_pred_post,\n",
    "                                       scale=prec_pred_post**-0.5)\n",
    "                         \n",
    "    return cond_pred\n",
    "\n",
    "\n",
    "def compute_next_posterior(r_post, cond_pred, p):\n",
    "    \"\"\"\n",
    "    Compute next posterior p(r | x[1:t]) from current posterior p(r | x[1:t-1])\n",
    "    and conditional predictive p(x[t] | x[1:t-1], r).\n",
    "    \"\"\"\n",
    "    \n",
    "    next_r_post = np.zeros_like(r_post)\n",
    "    next_r_post[0] = p * cond_pred[0] * np.sum(r_post)\n",
    "    next_r_post[1:] = (1 - p) * r_post[:-1] * cond_pred[:-1]\n",
    "    \n",
    "    next_r_post = next_r_post / np.sum(next_r_post)\n",
    "    \n",
    "    return next_r_post\n",
    "    \n",
    "    \n",
    "def infer(x, p, r_max, mu0, beta, a, b):\n",
    "    \n",
    "    r_post = np.zeros(shape=(x.shape[0], r_max))\n",
    "    r_post[0, 0] = 1.\n",
    "    \n",
    "    for t in range(1, x.shape[0]):\n",
    "        \n",
    "        cond_pred_ = cond_pred(t, x, r_max, mu0, beta, a, b)\n",
    "        r_post[t, :] = compute_next_posterior(r_post[t-1, :], cond_pred=cond_pred_, p=p)\n",
    "        \n",
    "    return r_post\n",
    "\n",
    "r_post = infer(x=x,\n",
    "               p=p,\n",
    "               r_max=r_max,\n",
    "               mu0=mu0,\n",
    "               beta=beta,\n",
    "               a=a,\n",
    "               b=b)"
   ]
  },
  {
   "cell_type": "code",
   "execution_count": 265,
   "metadata": {},
   "outputs": [
    {
     "data": {
      "image/png": "[encoded data removed]",
      "text/plain": [
       "<Figure size 1440x576 with 1 Axes>"
      ]
     },
     "metadata": {
      "needs_background": "light"
     },
     "output_type": "display_data"
    }
   ],
   "source": [
    "plt.figure(figsize=(20, 8))\n",
    "plt.imshow(r_post.T, origin='xy', cmap='binary', aspect=0.2)\n",
    "plt.show()"
   ]
  },
  {
   "cell_type": "code",
   "execution_count": null,
   "metadata": {},
   "outputs": [],
   "source": []
  }
 ],
 "metadata": {
  "kernelspec": {
   "display_name": "venv-random-walks",
   "language": "python",
   "name": "venv-random-walks"
  },
  "language_info": {
   "codemirror_mode": {
    "name": "ipython",
    "version": 3
   },
   "file_extension": ".py",
   "mimetype": "text/x-python",
   "name": "python",
   "nbconvert_exporter": "python",
   "pygments_lexer": "ipython3",
   "version": "3.7.3"
  }
 },
 "nbformat": 4,
 "nbformat_minor": 4
}
