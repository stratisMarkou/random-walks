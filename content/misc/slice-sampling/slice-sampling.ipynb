{
 "cells": [
  {
   "cell_type": "markdown",
   "metadata": {},
   "source": [
    "# Slice Sampling\n",
    "\n",
    "Slice sampling {cite}`neal2003slice` is a Markov Chain Monte Carlo (MCMC) method for sampling from unnormalised probability distributions, developed by Radford Neal. Similarly to all other MCMC methods, Slice Sampling starts out from an initial point $x_0$ and evolves this according to a rule $p(x_{n + 1} | x_n)$, such that the distribution of $x_n$ approaches $\\pi$ in the limit $n \\to \\infty$. The feature that makes Slice Sampling involves very few tunable parameters and virtually no critical design choices - unlike other sampling algorithms such as Metropolis Hastings, where the choice of proposal distribution can greatly affect the performance of the algorithm."
   ]
  },
  {
   "cell_type": "markdown",
   "metadata": {},
   "source": [
    "## Interval-expansion methods"
   ]
  },
  {
   "cell_type": "markdown",
   "metadata": {},
   "source": [
    "### Step-out method"
   ]
  },
  {
   "cell_type": "code",
   "execution_count": 10,
   "metadata": {},
   "outputs": [],
   "source": [
    "def step_out_expansion(x0, y, log_prob, w, m):\n",
    "    \n",
    "    U = np.random.rand()\n",
    "    L = x0 - w * U\n",
    "    R = L + w\n",
    "    \n",
    "    Lhist = [L]\n",
    "    Rhist = [R]\n",
    "    \n",
    "    J = np.floor(m * np.random.rand())\n",
    "    K = m - 1 - J\n",
    "    \n",
    "    fL = log_prob(L)\n",
    "    fR = log_prob(R)\n",
    "    \n",
    "    while J > 0 and y <= fL:\n",
    "        \n",
    "        L = L - w\n",
    "        J = J - 1\n",
    "        fL = log_prob(L)\n",
    "        \n",
    "        Lhist.append(L)\n",
    "        \n",
    "    while K > 0 and y <= fR:\n",
    "        \n",
    "        R = R + w\n",
    "        K = K - 1\n",
    "        fR = log_prob(R)\n",
    "        \n",
    "        Rhist.append(R)\n",
    "        \n",
    "    return L, R, (Lhist, Rhist)"
   ]
  },
  {
   "cell_type": "markdown",
   "metadata": {},
   "source": [
    "### Doubling method"
   ]
  },
  {
   "cell_type": "code",
   "execution_count": 11,
   "metadata": {},
   "outputs": [],
   "source": [
    "def double_expansion(x0, y, log_prob, w, p):\n",
    "    \n",
    "    U = np.random.unform()\n",
    "    L = x0 - w * U\n",
    "    R = L + w\n",
    "    K = p\n",
    "    \n",
    "    Lhist = [L]\n",
    "    Rhist = [R]\n",
    "    \n",
    "    fL = log_prob(L)\n",
    "    fR = log_prob(R)\n",
    "    \n",
    "    while K > 0 and (fL > y or fR > y):\n",
    "        \n",
    "        V = np.random.uniform()\n",
    "        \n",
    "        if V > 0.5:\n",
    "            L = L - (R - L)\n",
    "            fL = log_prob(L)\n",
    "            \n",
    "        else:\n",
    "            R = R + (R - L)\n",
    "            fR = log_prob(R)\n",
    "        \n",
    "        Lhist.append(L)\n",
    "        Rhist.append(R)\n",
    "        \n",
    "        K = K - 1\n",
    "            \n",
    "    return L, R, (Lhist, Rhist)"
   ]
  },
  {
   "cell_type": "markdown",
   "metadata": {},
   "source": [
    "## Interval sampling\n",
    "\n",
    "### Sampling method"
   ]
  },
  {
   "cell_type": "code",
   "execution_count": 12,
   "metadata": {},
   "outputs": [],
   "source": [
    "def sample_acceptable_set(x0, y, L, R, log_prob, method, params, shrinkage):\n",
    "    \n",
    "    L0, R0 = L, R\n",
    "    \n",
    "    while True:\n",
    "        \n",
    "        x = L + (R - L) * np.random.rand()\n",
    "        \n",
    "        accept = is_acceptable(x, y, L0, R0, log_prob, method, params)\n",
    "        \n",
    "        if accept:\n",
    "            return x\n",
    "        \n",
    "        elif shrinkage and x <= x0:\n",
    "            L = x\n",
    "            \n",
    "        elif shrinkage and x > x0:\n",
    "            R = x"
   ]
  },
  {
   "cell_type": "markdown",
   "metadata": {},
   "source": [
    "### Checking for acceptibility"
   ]
  },
  {
   "cell_type": "code",
   "execution_count": 13,
   "metadata": {},
   "outputs": [],
   "source": [
    "def is_acceptable(x, y, L, R, log_prob, method, params):\n",
    "    \n",
    "    # Function value at candidate point\n",
    "    f = log_prob(x)\n",
    "    \n",
    "    # For stepping out, check x is in the slice (y < f)\n",
    "    if method == 'step_out':\n",
    "        \n",
    "        if y <= f:\n",
    "            return True\n",
    "        \n",
    "        else:\n",
    "            return False\n",
    "    \n",
    "    # For doubling, check the doubling sequence can be recreated the other way\n",
    "    elif method == 'double':\n",
    "        \n",
    "        w, p = params\n",
    "        \n",
    "        fx = log_prob(x)\n",
    "        \n",
    "        while R - L > 1.5 * w:\n",
    "            \n",
    "            M = (R + L) / 2\n",
    "            \n",
    "            fL = log_prob(L)\n",
    "            fM = log_prob(M)\n",
    "            fR = log_prob(R)\n",
    "            \n",
    "            if x >= M and (y < fM or y < fR): L = M\n",
    "                \n",
    "            elif x < M and (y < fL or y < fM): R = M\n",
    "            \n",
    "            else: return False\n",
    "            \n",
    "        # If the point is not rejcected in the loop, it is acceptable\n",
    "        return True"
   ]
  },
  {
   "cell_type": "markdown",
   "metadata": {},
   "source": [
    "## The Slice Sampling algorithm"
   ]
  },
  {
   "cell_type": "code",
   "execution_count": 14,
   "metadata": {},
   "outputs": [],
   "source": [
    "def sample(x0, log_prob, method, params, shrinkage):\n",
    "    \n",
    "    f0 = log_prob(x0)\n",
    "    y = np.log(np.exp(f0) * np.random.rand())\n",
    "    \n",
    "    L = None\n",
    "    R = None\n",
    "    \n",
    "    if method == 'step_out':\n",
    "        w, m = params\n",
    "        L, R, _ = step_out_expansion(x0, y, log_prob, w, m)\n",
    "        \n",
    "    elif method == 'double':\n",
    "        w, p = params\n",
    "        L, R, _ = double_expansion(x0, y, log_prob, w, p)\n",
    "        \n",
    "    x = sample_acceptable_set(x0=x0,\n",
    "                              y=y,\n",
    "                              L=L,\n",
    "                              R=R,\n",
    "                              log_prob=log_prob,\n",
    "                              method=method,\n",
    "                              params=params,\n",
    "                              shrinkage=shrinkage)\n",
    "    \n",
    "    return x, y"
   ]
  },
  {
   "cell_type": "markdown",
   "metadata": {},
   "source": [
    "## References\n",
    "\n",
    "```{bibliography} ./references.bib\n",
    "```"
   ]
  },
  {
   "cell_type": "code",
   "execution_count": null,
   "metadata": {},
   "outputs": [],
   "source": []
  }
 ],
 "metadata": {
  "kernelspec": {
   "display_name": "venv-random-walks",
   "language": "python",
   "name": "venv-random-walks"
  },
  "language_info": {
   "codemirror_mode": {
    "name": "ipython",
    "version": 3
   },
   "file_extension": ".py",
   "mimetype": "text/x-python",
   "name": "python",
   "nbconvert_exporter": "python",
   "pygments_lexer": "ipython3",
   "version": "3.7.3"
  }
 },
 "nbformat": 4,
 "nbformat_minor": 4
}
