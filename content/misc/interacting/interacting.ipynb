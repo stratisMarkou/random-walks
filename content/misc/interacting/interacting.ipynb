{
 "cells": [
  {
   "cell_type": "markdown",
   "metadata": {},
   "source": [
    "# Interacting particle solutions of the FPK equatinons"
   ]
  },
  {
   "cell_type": "markdown",
   "metadata": {},
   "source": [
    "$$\\begin{align}\n",
    "\\mathcal{L} = \\int p_t(x) \\left[ \\vert\\phi(x)\\vert^2 + 2 \\phi^\\top(x)r(x) + 2 \\nabla \\cdot \\phi(x) \\right] dx + \\text{ const.}\n",
    "\\end{align}$$\n",
    "\n",
    "$$\\begin{align}\n",
    "w = - \\left[ \\sum^N_{n = 1} \\Phi^\\top(x_n)\\Phi(x_n) \\right]^{-1} \\left[ \\sum^N_{n = 1} \\Phi^\\top(x_n)r(x_n) + (\\nabla \\Phi)(x_n) \\right]\n",
    "\\end{align}$$"
   ]
  },
  {
   "cell_type": "code",
   "execution_count": null,
   "metadata": {},
   "outputs": [],
   "source": [
    "def Phi(x, locs, scales):\n",
    "    \"\"\"\n",
    "    Arguments\n",
    "    x      : tf.Tensor, shape (N, D)\n",
    "    locs   : tf.Tensor, shape (K, D)\n",
    "    scales : tf.Tensor, shape (K, D)\n",
    "    \n",
    "    Returns\n",
    "    Phi    : tf.Tensor, shape (N, D, K)\n",
    "    \"\"\"\n",
    "    \n",
    "    # Reshape tensors for broadcasting\n",
    "    x = x[:, None, None, :]\n",
    "    locs = locs[None, :, :, None]\n",
    "    scales = scales[None, :, :, :]\n",
    "    \n",
    "    quad = -0.5 * ((x - locs) / scales) ** 2\n",
    "    quad = tf.sum(quad, axis=2)\n",
    "    \n",
    "    "
   ]
  }
 ],
 "metadata": {
  "kernelspec": {
   "display_name": "venv-random-walks",
   "language": "python",
   "name": "venv-random-walks"
  },
  "language_info": {
   "codemirror_mode": {
    "name": "ipython",
    "version": 3
   },
   "file_extension": ".py",
   "mimetype": "text/x-python",
   "name": "python",
   "nbconvert_exporter": "python",
   "pygments_lexer": "ipython3",
   "version": "3.7.3"
  }
 },
 "nbformat": 4,
 "nbformat_minor": 4
}
