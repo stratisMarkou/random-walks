{
 "cells": [
  {
   "cell_type": "markdown",
   "metadata": {},
   "source": [
    "## Generalised linear-fractional programmes\n",
    "\n",
    "## Quadratic programmes\n",
    "\n",
    "**Quadratic Programme:** an optimisation problem of the form\n",
    "\n",
    "\\begin{align}\n",
    "&\\text{minimise}&& \\frac{1}{2}x^\\top P x + q^\\top x + c\\\\\n",
    "&\\text{subject to}&& Gx \\preccurlyeq h\\\\\n",
    "& && Ax = b\\\\\n",
    "\\end{align}\n",
    "\n",
    "where $P \\succcurlyeq 0$.\n",
    "\n",
    "**Least squares:**\n",
    "\n",
    "**Linear programme with random cost:**\n",
    "\n",
    "\\begin{align}\n",
    "&\\text{minimise}&& \\tilde{c}^\\top x + \\gamma x^\\top \\Sigma x = \\mathbb{E}[c^\\top x] + \\gamma \\text{Var}[c^\\top x]\\\\\n",
    "&\\text{subject to}&& Gx \\preccurlyeq h\\\\\n",
    "& && Ax = b\\\\\n",
    "\\end{align}\n",
    "\n",
    "**Quadratically constrained quadratic programme:** \n",
    "\n",
    "\\begin{align}\n",
    "&\\text{minimise}&& \\frac{1}{2}x^\\top P x + q^\\top x + c\\\\\n",
    "&\\text{subject to}&& \\frac{1}{2}x^\\top P_n x + q_n^\\top x + c_n \\leq 0, \\text{ where } n = 1, 2, ..., N\\\\\n",
    "& && Ax = b\\\\\n",
    "\\end{align}\n",
    "\n",
    "**Second-order cone programming:**\n",
    "\n",
    "\\begin{align}\n",
    "&\\text{minimise}&& f^\\top x \\\\\n",
    "&\\text{subject to}&& ||A_n x + b_n||_2 \\leq c_n^\\top x + d_n, \\text{ where } n = 1, 2, ..., N\\\\\n",
    "& && Fx = g\\\\\n",
    "\\end{align}\n",
    "\n",
    "## Geometric programmes\n",
    "\n",
    "**Monomial functions:** a function of the form $$f(x) = cx_1^{a_1}x_2^{a_2}...x_n^{a_n},$$ where $\\textbf{dom}~f = \\mathbb{R}^n_{++}$ with $c > 0, a_i \\in \\mathbb{R}$.\n",
    "\n",
    "**Posynomial function:** a function that is the sum of monomials $$ f(x) = \\sum^K_{k = 1} c_kx_1^{a_{1k}}x_2^{a_{2k}}...x_K^{a_{1K}}$$ where $\\textbf{dom}~f = \\mathbb{R}^n_{++}$ with $c > 0, a_{ik} \\in \\mathbb{R}$.\n",
    "\n",
    "**Geometric programme:** a (non-convex) problem with posynomial inequalities and monomial equality constraints \\begin{align}\n",
    "&\\text{minimise} && f_0(x) &&&\\\\\n",
    "&\\text{subject to} && f_n(x) \\leq 1, &&& n = 1,..., N\\\\\n",
    "& && h_m(x) = 1, &&& m = 1,..., M\n",
    "\\end{align}\n",
    "\n",
    "Geometric programmes are not convex but can be converted to convex ones by making a change of variables $y_i = \\log x_i$ and minimise the $\\log$ of $f_0$.\n",
    "\n",
    "### Cantilever beam example\n",
    "\n",
    "### Minimising the spectral radius of a nonnegative matrix"
   ]
  },
  {
   "cell_type": "code",
   "execution_count": null,
   "metadata": {},
   "outputs": [],
   "source": []
  }
 ],
 "metadata": {
  "kernelspec": {
   "display_name": "venv-random-walks",
   "language": "python",
   "name": "venv-random-walks"
  },
  "language_info": {
   "codemirror_mode": {
    "name": "ipython",
    "version": 3
   },
   "file_extension": ".py",
   "mimetype": "text/x-python",
   "name": "python",
   "nbconvert_exporter": "python",
   "pygments_lexer": "ipython3",
   "version": "3.7.3"
  }
 },
 "nbformat": 4,
 "nbformat_minor": 4
}
