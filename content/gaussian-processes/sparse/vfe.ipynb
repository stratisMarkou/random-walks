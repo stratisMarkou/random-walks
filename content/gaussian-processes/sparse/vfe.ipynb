{
 "cells": [
  {
   "cell_type": "markdown",
   "metadata": {},
   "source": [
    "# VFE\n",
    "\n",
    "Maximize KL divergence ELBO:\n",
    "\n",
    "\\begin{align}\n",
    "\\mathbf{F}(q, \\boldsymbol{\\theta}) &= \\log p(\\mathbf{y} | \\boldsymbol{\\theta}) + \\int q(f | \\mathbf{y}) \\log \\frac{p(f | \\mathbf{y})}{q(f | \\mathbf{y})}\\\\\n",
    "&= \\int q(f | \\mathbf{y}) \\log \\frac{p(\\mathbf{y}, f | \\boldsymbol{\\theta})}{q(f | \\mathbf{y})}\n",
    "\\end{align}\n",
    "\n",
    "Note that we can choose the form of $q(f | \\mathbf{y})$ as we like. Choose a special approximate posterior:\n",
    "\n",
    "\\begin{align}\n",
    "q(f | \\mathbf{y}) = p\\left(f_{\\neq \\mathbf{\\bar{X}}} | \\mathbf{f}_{\\mathbf{\\bar{X}}}\\right) q\\left(\\mathbf{f}_{\\mathbf{\\bar{X}}} | \\mathbf{y} \\right)\n",
    "\\end{align}\n",
    "\n",
    "Maximise $\\mathcal{F}$ w.r.t. $q$:\n",
    "\n",
    "\\begin{align}\n",
    "q^*\\left(\\mathbf{f}_{\\mathbf{\\bar{X}}} | \\mathbf{y} \\right) = \\text{argmax}_{q} \\mathbf{F}(q, \\boldsymbol{\\theta})\n",
    "\\end{align}\n",
    "\n",
    "\n",
    "\n",
    "## Solve for maximising the free energy\n",
    "\n",
    "Substitute special prior in free energy bound:\n",
    "\n",
    "\\begin{align} \\require{cancel}\n",
    "\\mathbf{F}(q, \\boldsymbol{\\theta}) &= \\int p\\lrb[f_{\\neq \\Xb} | \\fb] q\\lrb[\\fb | \\mathbf{y}] \\log \\frac{p(\\mathbf{y}, f | \\bs[\\theta])}{p\\lrb[f_{\\neq \\Xb} | \\fb] q\\lrb[\\mathbf{f}_{\\mathbf{\\bar{X}}} | \\mathbf{y}]}\\\\\n",
    "&= \\int p\\lrb[f_{\\neq \\Xb} | \\fb] q\\lrb[\\fb | \\mathbf{y}] \\log \\frac{p(\\mathbf{y} | \\mathbf{f}, \\bs[\\theta])  \\cancel{p\\lrb[f_{\\neq \\Xb} | fb]}  p\\lrb[\\fb]}{\\cancel{p\\lrb[f_{\\neq \\Xb} | \\fb]} q\\left(\\fb | \\mathbf{y} \\right)} df\\\\\n",
    "&= \\int p\\lrb[\\fx | \\fb] q\\lrb[\\fb | \\mathbf{y}] \\log \\frac{p(\\mathbf{y} | \\mathbf{f}, \\bs[\\theta]) p(\\fb)}{ q\\left(\\mathbf{f}_{\\mathbf{\\bar{X}}} | \\mathbf{y} \\right)} d\\mathbf{f}_{\\mathbf{X}} d\\mathbf{f}_{\\mathbf{\\bar{X}}}\n",
    "\\end{align}\n",
    "\n",
    "Substituting $p\\left(f_{\\neq \\mathbf{\\bar{X}}} | \\mathbf{f}_{\\mathbf{\\bar{X}}}\\right) = \\mathcal{N}\\left(f_{\\neq \\mathbf{\\bar{X}}}; \\mathbf{K}_{\\mathbf{X}\\mathbf{\\bar{X}}} \\mathbf{K}_{\\mathbf{\\bar{X}}\\mathbf{\\bar{X}}}^{-1},  \\mathbf{K}_{\\mathbf{\\bar{X}}\\mathbf{\\bar{X}}} - \\mathbf{K}_{\\mathbf{X}\\mathbf{\\bar{X}}} \\mathbf{K}_{\\mathbf{\\bar{X}}\\mathbf{\\bar{X}}}^{-1} \\right)$"
   ]
  },
  {
   "cell_type": "markdown",
   "metadata": {},
   "source": [
    "## Observations\n",
    "\n",
    "Tightness of bound and expressiveness of approximate posterior are different things.\n",
    "\n",
    "$\n",
    " \\def\\Kxx{\\mathbf{K}_{\\mathbf{X}\\mathbf{X}}}\n",
    " \\def\\Kxb{\\mathbf{K}_{\\mathbf{X}\\mathbf{\\bar{X}}}}\n",
    " \\def\\Kbx{\\mathbf{K}_{\\mathbf{\\bar{X}}\\mathbf{X}}}\n",
    " \\def\\Kbb{\\mathbf{K}_{\\mathbf{\\bar{X}}\\mathbf{\\bar{X}}}}\n",
    " \\def\\fx{\\mathbf{f}_{\\mathbf{X}}}\n",
    " \\def\\fb{\\mathbf{f}_{\\mathbf{\\bar{X}}}}\n",
    " \\def\\X{\\mathbf{X}}\n",
    " \\def\\Xb{\\mathbf{\\bar{X}}}\n",
    " \\def\\lrb[#1]{\\left(#1\\right)}\n",
    " \\def\\bm[#1]{\\mathbf{#1}}\n",
    " \\def\\bs[#1]{\\boldsymbol{#1}}\n",
    "$\n",
    "\n",
    "$\\Kxx, \\Kxb, \\Kbx, \\Kbb, \\fx, \\fb, \\X, \\Xb, \\lrb[\\frac{1}{2}], \\bm[1], \\bs[\\theta]$"
   ]
  },
  {
   "cell_type": "code",
   "execution_count": null,
   "metadata": {},
   "outputs": [],
   "source": []
  },
  {
   "cell_type": "code",
   "execution_count": null,
   "metadata": {},
   "outputs": [],
   "source": []
  }
 ],
 "metadata": {
  "kernelspec": {
   "display_name": "venv-random-walks",
   "language": "python",
   "name": "venv-random-walks"
  },
  "language_info": {
   "codemirror_mode": {
    "name": "ipython",
    "version": 3
   },
   "file_extension": ".py",
   "mimetype": "text/x-python",
   "name": "python",
   "nbconvert_exporter": "python",
   "pygments_lexer": "ipython3",
   "version": "3.7.3"
  }
 },
 "nbformat": 4,
 "nbformat_minor": 4
}
