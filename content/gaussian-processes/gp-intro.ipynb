{
 "cells": [
  {
   "cell_type": "markdown",
   "metadata": {},
   "source": [
    "# Gaussian Processes\n",
    "\n",
    "The Gaussian Process (GP) is a powerful nonparametric model, which can be used for tasks like regression or classification. GPs perform exctremely well in small datasets, have theoretically useful properties and are interpretable.\n",
    "\n",
    "## On the GP section\n",
    "\n",
    "- Fully Independent Training Conditionals (FITC) approximation.\n",
    "\n",
    "## Coming soon\n",
    "\n",
    "- GPs for regression and classification\n",
    "- Deterministic Training Conditionals (DTC) approximation.\n",
    "- Variational Free Energy (VFE) approximation."
   ]
  },
  {
   "cell_type": "code",
   "execution_count": null,
   "metadata": {},
   "outputs": [],
   "source": []
  }
 ],
 "metadata": {
  "kernelspec": {
   "display_name": "venv-random-walks",
   "language": "python",
   "name": "venv-random-walks"
  },
  "language_info": {
   "codemirror_mode": {
    "name": "ipython",
    "version": 3
   },
   "file_extension": ".py",
   "mimetype": "text/x-python",
   "name": "python",
   "nbconvert_exporter": "python",
   "pygments_lexer": "ipython3",
   "version": "3.7.3"
  }
 },
 "nbformat": 4,
 "nbformat_minor": 4
}
