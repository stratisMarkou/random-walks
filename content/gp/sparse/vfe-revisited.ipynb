{
 "cells": [
  {
   "cell_type": "markdown",
   "metadata": {},
   "source": [
    "# The Variational Approximation revisited\n",
    "\n",
    "Consider a model with a Gaussian prior, written as\n",
    "\n",
    "$$\\begin{equation}\n",
    "p(\\mathbf{y}, \\mathbf{z} | \\theta) = p(\\mathbf{y} | \\mathbf{z}, \\theta) p(\\mathbf{z} | \\theta) = p(\\mathbf{y} | \\mathbf{z}, \\theta)~\\mathcal{N}(\\mathbf{z}; \\mathbf{0}, \\mathbf{K}).\n",
    "\\end{equation}$$\n",
    "\n",
    "Consider a model with a Gaussian prior and a factorising likelihood, written as\n",
    "\n",
    "$$\\begin{equation}\n",
    "p(\\mathbf{y}, \\mathbf{z} | \\theta) = p(\\mathbf{z} | \\theta) \\prod_{n=1}^N p(y_n | z_n, \\theta) = \\mathcal{N}(\\mathbf{z}; \\mathbf{0}, \\mathbf{K}) \\prod_{n=1}^N p(y_n | z_n, \\theta).\n",
    "\\end{equation}$$\n",
    "\n",
    "We are interested in approximating the posterior $p(\\mathbf{z} | \\mathbf{y}, \\theta)$ with a Gaussian distribution $q(\\mathbf{z}) = \\mathcal{N}(\\mathbf{z}; \\boldsymbol{\\mu}, \\mathbf{\\Sigma})$.\n",
    "\n"
   ]
  },
  {
   "cell_type": "code",
   "execution_count": null,
   "metadata": {},
   "outputs": [],
   "source": []
  }
 ],
 "metadata": {
  "kernelspec": {
   "display_name": "venv-random-walks",
   "language": "python",
   "name": "venv-random-walks"
  },
  "language_info": {
   "codemirror_mode": {
    "name": "ipython",
    "version": 3
   },
   "file_extension": ".py",
   "mimetype": "text/x-python",
   "name": "python",
   "nbconvert_exporter": "python",
   "pygments_lexer": "ipython3",
   "version": "3.7.3"
  }
 },
 "nbformat": 4,
 "nbformat_minor": 4
}
