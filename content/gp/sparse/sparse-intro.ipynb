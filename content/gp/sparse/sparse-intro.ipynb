{
 "cells": [
  {
   "cell_type": "markdown",
   "metadata": {},
   "source": [
    "# Sparse Gaussian Processes\n",
    "\n",
    "One central limitation of Gaussian Processes (GPs) is their poor scaling with the number of datapoints. GPs involve a cubic $\\mathcal{O}(N^3)$ time complexity in the number of datapoints $N$ both for computing the posterior, for making predictions, as well as the marginal likelihood, for training the model's hyperparameters. This is because they both quantities involve the inverse of an $N \\times N$ covariance matrix. If we want to scale GPs to larger datasets *we cannot consider correlations between all datapoints* because of the cubic cost of inverting the associated covariance. It is clear that we'll have to give up some aspects of the true model in order to scale GPs to larger datasets.\n",
    "\n",
    "One idea for achieving this is to make some approximations about the structure of the covariance matrix, such as an independence assumption between certain variables, in order to make the matrix inversion cheaper. Over the years, there have been numerous approaches have been devised for scaling GPs, by making some approximation to sparsify the covariance matrix and leverage the sparse structure to train, predict and sample faster. Examples of such early approximations are Deterministic Training Conditionals (DTC), {cite}`seeger2003fast` Fully Independent Training Conditionals (FITC), {cite}`snelson2005sparse` Partially Independent Training Conditionals (PITC). {cite}`quinonero2005unifying` These methods can be regarded from a unified perspective {cite}`quinonero2005unifying` as approximations which assume to the exact GP model, which however has a sparse covariance structure imposed by a set of inducing- or pseudo-points, making training and prediction with it cheaper.\n",
    "\n",
    "More recently, it has been realised that instead of approximating the model and performing exact inference with it, it is possible and more desirable to retain the exact model and instead approximate its posterior. The Variational Free Energy (VFE) {cite}`titsias2009variational` approximation allows us to do precisely this, retaining the true GP and approximating its posterior using a pseudopoint approximation. This method uses the Free Energy (also called the ELBO) to approximate the posterior, but other methods have also been developed, based for example on Expectation Propagaion (EP), whilst a unifying perspective of posterior approximation methods has also emerged. {cite}`bui2017unifying`\n",
    "\n",
    "## References\n",
    "\n",
    "```{bibliography} ./sparse-intro.bib\n",
    "```"
   ]
  },
  {
   "cell_type": "code",
   "execution_count": null,
   "metadata": {},
   "outputs": [],
   "source": []
  }
 ],
 "metadata": {
  "kernelspec": {
   "display_name": "venv-random-walks",
   "language": "python",
   "name": "venv-random-walks"
  },
  "language_info": {
   "codemirror_mode": {
    "name": "ipython",
    "version": 3
   },
   "file_extension": ".py",
   "mimetype": "text/x-python",
   "name": "python",
   "nbconvert_exporter": "python",
   "pygments_lexer": "ipython3",
   "version": "3.7.3"
  }
 },
 "nbformat": 4,
 "nbformat_minor": 4
}
