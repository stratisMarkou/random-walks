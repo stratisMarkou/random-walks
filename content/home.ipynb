{
 "cells": [
  {
   "cell_type": "markdown",
   "metadata": {},
   "source": [
    "# Welcome\n",
    "\n",
    "## About\n",
    "\n",
    "Welcome to Random Walks! This is a collection of explorations, in the union of Inference, Probability, Optimisation and Physics. I am putting this together to keep track of the things I study and to share it with you :)\n",
    "\n",
    "## New on Random Walks\n",
    "\n",
    "- Fully Independent Training Conditionals (FITC) GP model.\n",
    "- Variational Free Energy (VFE) approximation for GPs.\n",
    "\n",
    "## Modes under exploration\n",
    "\n",
    "- Bayesian Methods for Adaptive Models: A reproduction of [David MacKay's PhD thesis](http://www.inference.org.uk/mackay/thesis.pdf).\n",
    "- The Neural Process family: [Conditional Neural Processes](https://arxiv.org/abs/1807.01613) (CNPs), [Neural Processes](https://arxiv.org/abs/1807.01622) (NPs) and [Attentive Neural Processes](https://arxiv.org/abs/1901.05761) (ANPs).\n",
    "- Approximate inference for Gaussian Processes.\n",
    "- Probabilistic methods for Reinforcement Learning, like [PILCO](https://www.doc.ic.ac.uk/~mpd37/publications/pami_final_w_appendix.pdf).\n",
    "\n",
    "<div style=\"text-align: center;\">\n",
    "    <img style=\"padding:50px\" src=\"images/logo/logo.svg\" />\n",
    "<div/>"
   ]
  }
 ],
 "metadata": {
  "kernelspec": {
   "display_name": "Python 3",
   "language": "python",
   "name": "python3"
  },
  "language_info": {
   "codemirror_mode": {
    "name": "ipython",
    "version": 3
   },
   "file_extension": ".py",
   "mimetype": "text/x-python",
   "name": "python",
   "nbconvert_exporter": "python",
   "pygments_lexer": "ipython3",
   "version": "3.7.3"
  },
  "widgets": {
   "application/vnd.jupyter.widget-state+json": {
    "state": {},
    "version_major": 2,
    "version_minor": 0
   }
  }
 },
 "nbformat": 4,
 "nbformat_minor": 4
}
