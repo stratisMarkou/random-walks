{
 "cells": [
  {
   "cell_type": "markdown",
   "metadata": {},
   "source": [
    "# Gaussian Processes\n",
    "\n",
    "The Gaussian Process (GP) is a powerful nonparametric model, which can be used for tasks like regression or classification. GPs perform exctremely well in small datasets, have theoretically attractive properties and are interpretable.\n",
    "\n",
    "## Challenges and interesting leads for study and research\n",
    "- **Scaling GPs to larger datasets:** the cost of making a prediction or optimising the hyperparameters of a GP, both scale like $\\mathcal{O}(N^3)$. There is a large literature on scaling GPs to larger datasets.\n",
    "- **Baking physical constraints into GP priors:** sometimes, we might have a strong prior on the function we are trying to model, in the form of some constraint. Examples include modelling electromagnetic fields, or the flow of fluids, which would have to obey Maxwell and Navier-Stokes respectively.\n",
    "- **Theoretical guarantees about generalisation performance:** What theoretical guarantees can one have about the generalisation performance of a GP to test data?\n",
    "\n",
    "\n",
    "## New on the Gaussian Processes section\n",
    "\n",
    "- Fully Independent Training Conditionals (FITC) approximation.\n",
    "\n",
    "## Coming soon\n",
    "\n",
    "- An intro to GPs for regression and classification\n",
    "- Deterministic Training Conditionals (DTC) approximation.\n",
    "- Variational Free Energy (VFE) approximation."
   ]
  },
  {
   "cell_type": "code",
   "execution_count": null,
   "metadata": {},
   "outputs": [],
   "source": []
  },
  {
   "cell_type": "markdown",
   "metadata": {},
   "source": [
    "\n",
    "```{toctree}\n",
    ":hidden:\n",
    ":titlesonly:\n",
    "\n",
    "\n",
    "sparse/sparse-intro\n",
    "```\n"
   ]
  }
 ],
 "metadata": {
  "kernelspec": {
   "display_name": "venv-random-walks",
   "language": "python",
   "name": "venv-random-walks"
  },
  "language_info": {
   "codemirror_mode": {
    "name": "ipython",
    "version": 3
   },
   "file_extension": ".py",
   "mimetype": "text/x-python",
   "name": "python",
   "nbconvert_exporter": "python",
   "pygments_lexer": "ipython3",
   "version": "3.7.3"
  }
 },
 "nbformat": 4,
 "nbformat_minor": 4
}