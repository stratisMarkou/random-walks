{
 "cells": [
  {
   "cell_type": "markdown",
   "metadata": {},
   "source": [
    "# Singular Value Decomposition\n",
    "\n",
    "- Eigenvalue decompostition $S = Q\\Lambda Q^\\top$ applies only to square matrices.\n",
    "- Introduce SVD, applicable to non-square matrices $A = U\\Sigma V^\\top$.\n",
    "\n",
    "## SVD by solving eigendecomposition problems\n",
    "\n",
    "1. Solve for $A^\\top A = V \\Sigma^\\top U^\\top U\\Sigma V^\\top  = V \\Sigma^2 V^\\top$, to get $V$ and $\\Sigma$.\n",
    "2. Then solve for $u_i = \\frac{Av_i}{\\sigma_i}$.\n",
    "\n",
    "$A$ can then be written as $A = \\sigma_1 v_1u_1^\\top + ... + \\sigma_r v_r u_r^\\top$, where $r$ is the rank of $A$."
   ]
  },
  {
   "cell_type": "code",
   "execution_count": null,
   "metadata": {},
   "outputs": [],
   "source": []
  }
 ],
 "metadata": {
  "kernelspec": {
   "display_name": "venv-random-walks",
   "language": "python",
   "name": "venv-random-walks"
  },
  "language_info": {
   "codemirror_mode": {
    "name": "ipython",
    "version": 3
   },
   "file_extension": ".py",
   "mimetype": "text/x-python",
   "name": "python",
   "nbconvert_exporter": "python",
   "pygments_lexer": "ipython3",
   "version": "3.7.3"
  }
 },
 "nbformat": 4,
 "nbformat_minor": 4
}