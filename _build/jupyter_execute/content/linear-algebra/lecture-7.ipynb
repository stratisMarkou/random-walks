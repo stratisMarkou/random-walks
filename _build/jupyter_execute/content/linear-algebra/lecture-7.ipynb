{
 "cells": [
  {
   "cell_type": "markdown",
   "metadata": {},
   "source": [
    "# Eckart-Young and PCA\n",
    "\n",
    "## Vector norms\n",
    "\n",
    "- $\\ell_1$ norm: $||v||_1 = |v_1| + |v_2| + ... + |v_n|$\n",
    "- $\\ell_2$ norm: $||v||_2 = \\sqrt{v_1^2 + v_2^2 + ... + v_n^2}$\n",
    "- $\\ell_\\infty$ norm: $||v||_\\infty = \\max|v_i|$\n",
    "\n",
    "## Matrix norms\n",
    "\n",
    "- Nuclear norm: $~~~||A||_{\\text{Nuclear}} = \\sum_{r = 1}^R \\sigma_r$\n",
    "- Frobenius norm: $||A||_F = \\sqrt{\\sum_{nm} |a_{nm}|^2}$\n",
    "- Spectral norm: $~~||A||_2 = \\max \\sigma_r$\n",
    "\n",
    "**Eckart-Young theorem:** If $B$ has rank $k$ and $A_k$ is the truncated SVD of $A$ up to the $k^{th}$ largest eigenvalue, then $||A - B|| \\geq ||A - A_k||$."
   ]
  },
  {
   "cell_type": "code",
   "execution_count": null,
   "metadata": {},
   "outputs": [],
   "source": []
  }
 ],
 "metadata": {
  "kernelspec": {
   "display_name": "venv-random-walks",
   "language": "python",
   "name": "venv-random-walks"
  },
  "language_info": {
   "codemirror_mode": {
    "name": "ipython",
    "version": 3
   },
   "file_extension": ".py",
   "mimetype": "text/x-python",
   "name": "python",
   "nbconvert_exporter": "python",
   "pygments_lexer": "ipython3",
   "version": "3.7.3"
  }
 },
 "nbformat": 4,
 "nbformat_minor": 4
}