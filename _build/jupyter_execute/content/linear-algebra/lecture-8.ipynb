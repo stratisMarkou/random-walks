{
 "cells": [
  {
   "cell_type": "markdown",
   "metadata": {},
   "source": [
    "# Vector and matrix norms (again)\n",
    "\n",
    "## Vector norms\n",
    "\n",
    "The $\\ell_p$ norm is defined as:\n",
    "\n",
    "\\begin{align}\n",
    "||x||_p = \\big(|x_1|^p + |x_2|^p + ... + |x_n|^p \\big)^{1/p}\n",
    "\\end{align}\n",
    "\n",
    "This is a norm (nonngeative, linear scaling, triangle inequality conditions) iff $p$ > 0. For various values of $p$ we get the norms:\n",
    "\n",
    "- $\\ell_0$ norm: $||x||_0 = \\text{ \\# non-zero components}$, (not really a norm).\n",
    "- $\\ell_1$ norm: $||x||_1 = |x_1| + |x_2| + ... + |x_n|$\n",
    "- $\\ell_2$ norm: $||x||_2 = \\sqrt{x_1^2 + x_2^2 + ... + x_n^2}$\n",
    "- $\\ell_\\infty$ norm: $||x||_\\infty = \\max|x_i|$\n",
    "\n",
    "## Matrix norms\n",
    "\n",
    "Norms are invariant under transformation by an orthogonal matrix:\n",
    "\n",
    "- Nuclear norm: $~~~||A||_{\\text{Nuclear}} = \\sum_{r = 1}^R \\sigma_r$\n",
    "- Frobenius norm: $||A||_F = \\sqrt{\\sum_{nm} |a_{nm}|^2} = \\sqrt{\\sum_{r = 1}^R \\sigma_r^2}$\n",
    "- Spectral norm: $~~||A||_2 = \\max \\sigma_r$"
   ]
  },
  {
   "cell_type": "code",
   "execution_count": null,
   "metadata": {},
   "outputs": [],
   "source": []
  }
 ],
 "metadata": {
  "kernelspec": {
   "display_name": "venv-random-walks",
   "language": "python",
   "name": "venv-random-walks"
  },
  "language_info": {
   "codemirror_mode": {
    "name": "ipython",
    "version": 3
   },
   "file_extension": ".py",
   "mimetype": "text/x-python",
   "name": "python",
   "nbconvert_exporter": "python",
   "pygments_lexer": "ipython3",
   "version": "3.7.3"
  }
 },
 "nbformat": 4,
 "nbformat_minor": 4
}