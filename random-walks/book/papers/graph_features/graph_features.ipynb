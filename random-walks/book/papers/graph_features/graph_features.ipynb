{
 "cells": [
  {
   "cell_type": "markdown",
   "metadata": {},
   "source": [
    ":::{prf:lemma} Inverse of $(I - U)^2$\n",
    "\n",
    "For $N \\in \\mathbb{N},$ let $I_N$ be the $N \\times N$ identity matrix and let $U$ be an $N \\times N$ matrix with $|\\rho(U)| < 1.$\n",
    "Then\n",
    "\n",
    "$$(I - U)^{-2} = I + 2U + 3U^2 + \\cdots.$$\n",
    "\n",
    ":::\n",
    "\n",
    ":::{dropdown} Proof: Inverse of $~(I - U)^2$\n",
    "\n",
    "We have that \n",
    "\n",
    "$$\\begin{aligned}\n",
    "I + 2U + 3U^2 + \\cdots &= (I + U + U^2 + \\cdots + U + U^2 + \\cdots) + (U + U^2 + \\cdots) \\\\\n",
    "&= (I + U + U^2 + \\cdots) + U(I + U + U^2 + \\cdots)\n",
    "\\end{aligned}$$\n",
    "\n",
    "and so, rearranging, we obtain\n",
    "\n",
    "$$(I - U)(I + 2U + 3U^2 + \\cdots) = I + U + U^2 + \\cdots.$$ (grf:lemma:series:eq1)\n",
    "\n",
    "Note that if $|\\rho(U)| < 1$ then\n",
    "\n",
    "$$I + U + U^2 + \\cdots = (I - U)^{-1},$$\n",
    "\n",
    "which we can substitute into {eq}`grf:lemma:series:eq1` to obtain\n",
    "\n",
    "$$(I - U)^{-2} = I + 2U + 3U^2 + \\cdots.$$\n",
    "\n",
    ":::"
   ]
  }
 ],
 "metadata": {
  "language_info": {
   "name": "python"
  }
 },
 "nbformat": 4,
 "nbformat_minor": 2
}
