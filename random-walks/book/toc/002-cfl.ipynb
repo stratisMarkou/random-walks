{
 "cells": [
  {
   "cell_type": "markdown",
   "id": "92abb8b9-8fee-4b6d-a7d9-6285ca58749c",
   "metadata": {},
   "source": [
    "# PDAs and context-free grammars\n",
    "\n",
    "## Context Free Pumping Lemma\n",
    "\n",
    ":::{prf:theorem} Pumping Lemma for CFLs\n",
    ":name: toc-cfl-pumping-lemma\n",
    "\n",
    "For every CFL $A$, there exists an integer $p$ such that if $s \\in A$ and $|s| \\geq p$, then $s = uvxyz$ where\n",
    "\n",
    "1. $uv^ixy^iz \\in A$ for all $i \\geq 0$,\n",
    "2. $vy \\neq \\epsilon$,\n",
    "3. $|vxy| \\leq p$.\n",
    "\n",
    ":::"
   ]
  },
  {
   "cell_type": "markdown",
   "id": "f13d6e35-a51c-45c7-b19b-022157a626fb",
   "metadata": {},
   "source": [
    "::::{prf:example} A non-context-free language\n",
    "\n",
    "\n",
    "The language $A = \\{0^k1^k2^k | k \\geq 0\\}$ is not a CFL.\n",
    "\n",
    ":::{dropdown} Proof\n",
    "\n",
    "Suppose $A = \\{0^k1^k2^k | k \\geq 0\\}$ is CFL.\n",
    "Then by the {ref}`pumping lemma for CFLs<toc-cfl-pumping-lemma>`, it has a pumping length $p$.\n",
    "Let $s = 0^p 1^p 2^p$.\n",
    "By the pumping lemma, it holds that $s = uvxyz$, such that the pumping lemma conditions hold.\n",
    "By the condition $|vxy| \\leq p$, the substring $vxy$ cannot both contain both zeros andd twos.\n",
    "Therefore, $uv^ixy^iz$ will not contain equal numbers of zeros and twos when $i \\geq 2,$ which contradicts the pumping lemma.\n",
    "So $A$ is not a CFL.\n",
    ":::\n",
    "::::"
   ]
  },
  {
   "cell_type": "markdown",
   "id": "beeacaed-ec5c-4cfa-a832-6d371926b45e",
   "metadata": {},
   "source": [
    "::::{prf:lemma} CFL not closed under intersection\n",
    "\n",
    "The class of context-free languages are not closed under intersection.\n",
    "\n",
    ":::{dropdown} Proof\n",
    "\n",
    "The languages $A_1 = \\{0^k 1^k 2^l | k, l \\geq 0\\}$ and $A_2 = \\{0^l 1^k 2^k | k, l \\geq 0\\}$ are context free since we can build PDAs that recognise them.\n",
    "For example, for $A_1$ we can construct a PDA which pushes the zeros on its stack, then pops them as it reads the ones, and lastly read any number of twos.\n",
    "Similarly we can build a PDA that recognises $A_2$.\n",
    "However, $A_1 \\cap A_2 = \\{0^k 1^k 2^k | k \\geq 0 \\}$, which is not a CFL, so the class of CFLs is not closed under intersection.\n",
    ":::\n",
    "::::"
   ]
  }
 ],
 "metadata": {
  "kernelspec": {
   "display_name": "venv-rw",
   "language": "python",
   "name": "venv-rw"
  },
  "language_info": {
   "codemirror_mode": {
    "name": "ipython",
    "version": 3
   },
   "file_extension": ".py",
   "mimetype": "text/x-python",
   "name": "python",
   "nbconvert_exporter": "python",
   "pygments_lexer": "ipython3",
   "version": "3.11.4"
  }
 },
 "nbformat": 4,
 "nbformat_minor": 5
}
