{
 "cells": [
  {
   "cell_type": "markdown",
   "id": "56f009e1-2d02-4817-9005-00c41a60f61d",
   "metadata": {},
   "source": [
    "# Turing machines"
   ]
  },
  {
   "cell_type": "markdown",
   "id": "98b6cefb-4377-43d0-bc10-c0e6239fb04e",
   "metadata": {},
   "source": [
    ":::{prf:definition} Turing Machine\n",
    "\n",
    "A Turing Machine (TM) is a $7$-tuple $(Q, \\Sigma, \\Gamma, \\delta, q_0, q_a, q_r)$, where\n",
    "\n",
    "1. $Q$ is a finite set of states,\n",
    "2. $\\Sigma$ is a finte set of input symbols,\n",
    "3. $\\Gamma$ is a finte set of tape symbols where $\\Sigma \\subseteq \\Gamma$,\n",
    "4. $\\delta : Q \\times \\Gamma \\to Q \\times \\Gamma \\times \\{L, R\\}$ is a transition function,\n",
    "5. $q_0 \\in Q$ is the initial state,\n",
    "6. $q_a \\in Q$ is the accept state,\n",
    "7. $q_r \\in Q$ is the reject state, where $q_r \\neq q_a$.\n",
    ":::\n",
    "\n",
    "\n",
    ":::{note}\n",
    "\n",
    "Given an input $w$, there are three possibilities for a TM.\n",
    "Either it accepts $w$ by entering $q_a$, it rejects $w$ by entering $q_r$ (also called halting), or neither.\n",
    "In the latter case, we say that the TM loops forever, and that it rejects $w$.\n",
    "\n",
    ":::"
   ]
  },
  {
   "cell_type": "markdown",
   "id": "a7878abc-7090-445b-ac1b-3c61a434db22",
   "metadata": {},
   "source": [
    ":::{prf:definition} Language of a TM\n",
    "Let $M$ be a TM.\n",
    "We define $L(M) = \\{w | M \\text{ accepts } w\\}.$\n",
    ":::\n",
    "\n",
    "\n",
    ":::{prf:definition} Turing recognisable\n",
    "\n",
    "We say that $M$ recognises $A$ if $A = L(M).$\n",
    "We say that a language $B$ is Turing-recognisable if there exists a TM $M$ such that $B = L(M).$\n",
    "\n",
    ":::\n",
    "\n",
    "\n",
    ":::{prf:definition} Turing decidable\n",
    "\n",
    "We say that a TM is a decider if it halts on all inputs, i.e. it never loops.\n",
    "We say that $M$ decides $A$ if $A = L(M)$ and $M$ is a decider.\n",
    "We say that a language $B$ is Turing-recognisable if there exists a TM $M$ such that $B = L(M).$\n",
    "\n",
    ":::\n",
    "\n"
   ]
  }
 ],
 "metadata": {
  "kernelspec": {
   "display_name": "venv-rw",
   "language": "python",
   "name": "venv-rw"
  },
  "language_info": {
   "codemirror_mode": {
    "name": "ipython",
    "version": 3
   },
   "file_extension": ".py",
   "mimetype": "text/x-python",
   "name": "python",
   "nbconvert_exporter": "python",
   "pygments_lexer": "ipython3",
   "version": "3.11.4"
  }
 },
 "nbformat": 4,
 "nbformat_minor": 5
}
